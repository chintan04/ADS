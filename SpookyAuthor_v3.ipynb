{
 "cells": [
  {
   "cell_type": "markdown",
   "metadata": {
    "collapsed": true
   },
   "source": [
    "# Spooky Author Identification"
   ]
  },
  {
   "cell_type": "markdown",
   "metadata": {
    "collapsed": true
   },
   "source": [
    "Objective:\n",
    "\n",
    "The  dataset contains text from works of fiction written by spooky authors of the public domain:\n",
    "\n",
    "Edgar Allan Poe (EAP)\n",
    "HP Lovecraft (HPL)\n",
    "Mary Wollstonecraft Shelley (MWS)\n",
    "The objective is to accurately identify the author of the sentences in the test set."
   ]
  },
  {
   "cell_type": "code",
   "execution_count": 99,
   "metadata": {
    "collapsed": true
   },
   "outputs": [],
   "source": [
    "import pandas as pd\n",
    "import numpy as np\n",
    "import matplotlib.pyplot as plt\n",
    "import seaborn as sns\n",
    "\n",
    "import re\n",
    "import nltk\n",
    "from nltk.corpus import stopwords \n",
    "from nltk.stem.porter import PorterStemmer\n",
    "from nltk.tokenize import word_tokenize\n",
    "%matplotlib inline\n"
   ]
  },
  {
   "cell_type": "code",
   "execution_count": 100,
   "metadata": {
    "collapsed": true
   },
   "outputs": [],
   "source": [
    "train = pd.read_csv(r\"train\\train.csv\")\n",
    "test = pd.read_csv(r\"test\\test.csv\")"
   ]
  },
  {
   "cell_type": "code",
   "execution_count": 101,
   "metadata": {},
   "outputs": [
    {
     "data": {
      "text/html": [
       "<div>\n",
       "<style>\n",
       "    .dataframe thead tr:only-child th {\n",
       "        text-align: right;\n",
       "    }\n",
       "\n",
       "    .dataframe thead th {\n",
       "        text-align: left;\n",
       "    }\n",
       "\n",
       "    .dataframe tbody tr th {\n",
       "        vertical-align: top;\n",
       "    }\n",
       "</style>\n",
       "<table border=\"1\" class=\"dataframe\">\n",
       "  <thead>\n",
       "    <tr style=\"text-align: right;\">\n",
       "      <th></th>\n",
       "      <th>id</th>\n",
       "      <th>text</th>\n",
       "      <th>author</th>\n",
       "    </tr>\n",
       "  </thead>\n",
       "  <tbody>\n",
       "    <tr>\n",
       "      <th>0</th>\n",
       "      <td>id00001</td>\n",
       "      <td>Idris was well content with this resolve of mine.</td>\n",
       "      <td>MWS</td>\n",
       "    </tr>\n",
       "    <tr>\n",
       "      <th>1</th>\n",
       "      <td>id00002</td>\n",
       "      <td>I was faint, even fainter than the hateful mod...</td>\n",
       "      <td>HPL</td>\n",
       "    </tr>\n",
       "    <tr>\n",
       "      <th>2</th>\n",
       "      <td>id00003</td>\n",
       "      <td>Above all, I burn to know the incidents of you...</td>\n",
       "      <td>EAP</td>\n",
       "    </tr>\n",
       "    <tr>\n",
       "      <th>3</th>\n",
       "      <td>id00004</td>\n",
       "      <td>He might see, perhaps, one or two points with ...</td>\n",
       "      <td>EAP</td>\n",
       "    </tr>\n",
       "    <tr>\n",
       "      <th>4</th>\n",
       "      <td>id00005</td>\n",
       "      <td>All obeyed the Lord Protector of dying England...</td>\n",
       "      <td>MWS</td>\n",
       "    </tr>\n",
       "  </tbody>\n",
       "</table>\n",
       "</div>"
      ],
      "text/plain": [
       "        id                                               text author\n",
       "0  id00001  Idris was well content with this resolve of mine.    MWS\n",
       "1  id00002  I was faint, even fainter than the hateful mod...    HPL\n",
       "2  id00003  Above all, I burn to know the incidents of you...    EAP\n",
       "3  id00004  He might see, perhaps, one or two points with ...    EAP\n",
       "4  id00005  All obeyed the Lord Protector of dying England...    MWS"
      ]
     },
     "execution_count": 101,
     "metadata": {},
     "output_type": "execute_result"
    }
   ],
   "source": [
    "train.head()"
   ]
  },
  {
   "cell_type": "code",
   "execution_count": 102,
   "metadata": {},
   "outputs": [
    {
     "data": {
      "text/plain": [
       "id        0\n",
       "text      0\n",
       "author    0\n",
       "dtype: int64"
      ]
     },
     "execution_count": 102,
     "metadata": {},
     "output_type": "execute_result"
    }
   ],
   "source": [
    "train.apply(lambda x: sum(x.isnull()),axis=0)"
   ]
  },
  {
   "cell_type": "code",
   "execution_count": 103,
   "metadata": {},
   "outputs": [
    {
     "data": {
      "text/html": [
       "<div>\n",
       "<style>\n",
       "    .dataframe thead tr:only-child th {\n",
       "        text-align: right;\n",
       "    }\n",
       "\n",
       "    .dataframe thead th {\n",
       "        text-align: left;\n",
       "    }\n",
       "\n",
       "    .dataframe tbody tr th {\n",
       "        vertical-align: top;\n",
       "    }\n",
       "</style>\n",
       "<table border=\"1\" class=\"dataframe\">\n",
       "  <thead>\n",
       "    <tr style=\"text-align: right;\">\n",
       "      <th></th>\n",
       "      <th>id</th>\n",
       "      <th>text</th>\n",
       "      <th>author</th>\n",
       "    </tr>\n",
       "  </thead>\n",
       "  <tbody>\n",
       "    <tr>\n",
       "      <th>count</th>\n",
       "      <td>19579</td>\n",
       "      <td>19579</td>\n",
       "      <td>19579</td>\n",
       "    </tr>\n",
       "    <tr>\n",
       "      <th>unique</th>\n",
       "      <td>19579</td>\n",
       "      <td>19579</td>\n",
       "      <td>3</td>\n",
       "    </tr>\n",
       "    <tr>\n",
       "      <th>top</th>\n",
       "      <td>id03686</td>\n",
       "      <td>Leaves the Square front of Hammond's Drug Stor...</td>\n",
       "      <td>EAP</td>\n",
       "    </tr>\n",
       "    <tr>\n",
       "      <th>freq</th>\n",
       "      <td>1</td>\n",
       "      <td>1</td>\n",
       "      <td>7900</td>\n",
       "    </tr>\n",
       "  </tbody>\n",
       "</table>\n",
       "</div>"
      ],
      "text/plain": [
       "             id                                               text author\n",
       "count     19579                                              19579  19579\n",
       "unique    19579                                              19579      3\n",
       "top     id03686  Leaves the Square front of Hammond's Drug Stor...    EAP\n",
       "freq          1                                                  1   7900"
      ]
     },
     "execution_count": 103,
     "metadata": {},
     "output_type": "execute_result"
    }
   ],
   "source": [
    "train.describe()"
   ]
  },
  {
   "cell_type": "code",
   "execution_count": 104,
   "metadata": {},
   "outputs": [
    {
     "name": "stdout",
     "output_type": "stream",
     "text": [
      "Number of rows and columns in data set (19579, 3)\n"
     ]
    }
   ],
   "source": [
    "print('Number of rows and columns in data set',train.shape)\n"
   ]
  },
  {
   "cell_type": "code",
   "execution_count": 105,
   "metadata": {},
   "outputs": [
    {
     "data": {
      "text/plain": [
       "EAP    7900\n",
       "MWS    6044\n",
       "HPL    5635\n",
       "Name: author, dtype: int64"
      ]
     },
     "execution_count": 105,
     "metadata": {},
     "output_type": "execute_result"
    }
   ],
   "source": [
    "train['author'].value_counts()"
   ]
  },
  {
   "cell_type": "code",
   "execution_count": 106,
   "metadata": {},
   "outputs": [
    {
     "data": {
      "image/png": "[encoded data removed]",
      "text/plain": [
       "<matplotlib.figure.Figure at 0x2216fb412b0>"
      ]
     },
     "metadata": {},
     "output_type": "display_data"
    }
   ],
   "source": [
    "plt.figure()\n",
    "sns.countplot(train['author'],)\n",
    "plt.xlabel('Author')\n",
    "plt.title('Target variable distribution')\n",
    "plt.show()"
   ]
  },
  {
   "cell_type": "code",
   "execution_count": 107,
   "metadata": {},
   "outputs": [
    {
     "name": "stdout",
     "output_type": "stream",
     "text": [
      "[nltk_data] Downloading package stopwords to\n",
      "[nltk_data]     C:\\Users\\ME\\AppData\\Roaming\\nltk_data...\n",
      "[nltk_data]   Package stopwords is already up-to-date!\n",
      "[nltk_data] Downloading package wordnet to\n",
      "[nltk_data]     C:\\Users\\ME\\AppData\\Roaming\\nltk_data...\n",
      "[nltk_data]   Package wordnet is already up-to-date!\n"
     ]
    },
    {
     "data": {
      "text/plain": [
       "True"
      ]
     },
     "execution_count": 107,
     "metadata": {},
     "output_type": "execute_result"
    }
   ],
   "source": [
    "import re\n",
    "import nltk\n",
    "nltk.download('stopwords')\n",
    "nltk.download('wordnet')"
   ]
  },
  {
   "cell_type": "code",
   "execution_count": 108,
   "metadata": {
    "collapsed": true
   },
   "outputs": [],
   "source": [
    "from nltk.corpus import stopwords\n",
    "from nltk.stem.porter import PorterStemmer\n",
    "from nltk.stem import WordNetLemmatizer"
   ]
  },
  {
   "cell_type": "code",
   "execution_count": 109,
   "metadata": {
    "collapsed": true
   },
   "outputs": [],
   "source": [
    "corpus =[]\n",
    "count = 19579"
   ]
  },
  {
   "cell_type": "code",
   "execution_count": 110,
   "metadata": {
    "collapsed": true
   },
   "outputs": [],
   "source": [
    "from nltk.tokenize import RegexpTokenizer\n",
    "tokenizer = RegexpTokenizer(r'\\w+')\n",
    "stop_words = set(stopwords.words('english'))\n",
    "lemm = WordNetLemmatizer()\n",
    "\n",
    "def preprocessing(data):\n",
    "    txt = data.str.lower().str.cat(sep=' ') #1\n",
    "    words = tokenizer.tokenize(txt) #2\n",
    "    words = [w for w in words if not w in stop_words] #3\n",
    "    words = [lemm.lemmatize(w) for w in words] #4\n",
    "    return words"
   ]
  },
  {
   "cell_type": "code",
   "execution_count": 111,
   "metadata": {
    "collapsed": true
   },
   "outputs": [],
   "source": [
    "eap = preprocessing(train[train.author==\"EAP\"][\"text\"])\n"
   ]
  },
  {
   "cell_type": "code",
   "execution_count": 112,
   "metadata": {
    "collapsed": true
   },
   "outputs": [],
   "source": [
    "from wordcloud import WordCloud, STOPWORDS\n",
    "%matplotlib inline "
   ]
  },
  {
   "cell_type": "code",
   "execution_count": 113,
   "metadata": {},
   "outputs": [
    {
     "data": {
      "text/plain": [
       "<matplotlib.figure.Figure at 0x2216a3d5ef0>"
      ]
     },
     "execution_count": 113,
     "metadata": {},
     "output_type": "execute_result"
    },
    {
     "data": {
      "text/plain": [
       "<matplotlib.figure.Figure at 0x2216a3d5ef0>"
      ]
     },
     "metadata": {},
     "output_type": "display_data"
    }
   ],
   "source": [
    "plt.figure(figsize=(200,100))"
   ]
  },
  {
   "cell_type": "code",
   "execution_count": 114,
   "metadata": {},
   "outputs": [
    {
     "data": {
      "text/plain": [
       "<wordcloud.wordcloud.WordCloud at 0x2216fb41b70>"
      ]
     },
     "execution_count": 114,
     "metadata": {},
     "output_type": "execute_result"
    }
   ],
   "source": [
    "wc = WordCloud(background_color=\"black\", max_words=50, \n",
    "                stopwords=STOPWORDS, max_font_size= 40)\n",
    "wc.generate(\" \".join(eap))"
   ]
  },
  {
   "cell_type": "code",
   "execution_count": 115,
   "metadata": {},
   "outputs": [
    {
     "data": {
      "text/plain": [
       "(-0.5, 399.5, 199.5, -0.5)"
      ]
     },
     "execution_count": 115,
     "metadata": {},
     "output_type": "execute_result"
    },
    {
     "data": {
      "image/png": "[encoded data removed]",
      "text/plain": [
       "<matplotlib.figure.Figure at 0x2216a3c0a58>"
      ]
     },
     "metadata": {},
     "output_type": "display_data"
    }
   ],
   "source": [
    "\n",
    "plt.title(\"Edgar Allan Poe\", fontsize=16)\n",
    "plt.imshow(wc,alpha=0.90)\n",
    "plt.axis('off')"
   ]
  },
  {
   "cell_type": "code",
   "execution_count": 116,
   "metadata": {
    "collapsed": true
   },
   "outputs": [],
   "source": [
    "hpl = preprocessing(train[train.author==\"HPL\"][\"text\"])\n"
   ]
  },
  {
   "cell_type": "code",
   "execution_count": 117,
   "metadata": {},
   "outputs": [
    {
     "data": {
      "text/plain": [
       "<matplotlib.figure.Figure at 0x2216aa1f320>"
      ]
     },
     "execution_count": 117,
     "metadata": {},
     "output_type": "execute_result"
    },
    {
     "data": {
      "text/plain": [
       "<matplotlib.figure.Figure at 0x2216aa1f320>"
      ]
     },
     "metadata": {},
     "output_type": "display_data"
    }
   ],
   "source": [
    "plt.figure(figsize=(200,100))"
   ]
  },
  {
   "cell_type": "code",
   "execution_count": 118,
   "metadata": {},
   "outputs": [
    {
     "data": {
      "text/plain": [
       "<wordcloud.wordcloud.WordCloud at 0x2216ab8cd30>"
      ]
     },
     "execution_count": 118,
     "metadata": {},
     "output_type": "execute_result"
    }
   ],
   "source": [
    "wc = WordCloud(background_color=\"black\", max_words=50, \n",
    "                stopwords=STOPWORDS, max_font_size= 40)\n",
    "wc.generate(\" \".join(hpl))"
   ]
  },
  {
   "cell_type": "code",
   "execution_count": 119,
   "metadata": {},
   "outputs": [
    {
     "data": {
      "text/plain": [
       "(-0.5, 399.5, 199.5, -0.5)"
      ]
     },
     "execution_count": 119,
     "metadata": {},
     "output_type": "execute_result"
    },
    {
     "data": {
      "image/png": "[encoded data removed]",
      "text/plain": [
       "<matplotlib.figure.Figure at 0x2216ab0d7b8>"
      ]
     },
     "metadata": {},
     "output_type": "display_data"
    }
   ],
   "source": [
    "plt.title(\"H. P. Lovecraft\", fontsize=16)\n",
    "plt.imshow(wc,alpha=0.90)\n",
    "plt.axis('off')"
   ]
  },
  {
   "cell_type": "code",
   "execution_count": 120,
   "metadata": {
    "collapsed": true
   },
   "outputs": [],
   "source": [
    "mws = preprocessing(train[train.author==\"MWS\"][\"text\"])"
   ]
  },
  {
   "cell_type": "code",
   "execution_count": 121,
   "metadata": {},
   "outputs": [
    {
     "data": {
      "text/plain": [
       "<matplotlib.figure.Figure at 0x2216a3d5320>"
      ]
     },
     "execution_count": 121,
     "metadata": {},
     "output_type": "execute_result"
    },
    {
     "data": {
      "text/plain": [
       "<matplotlib.figure.Figure at 0x2216a3d5320>"
      ]
     },
     "metadata": {},
     "output_type": "display_data"
    }
   ],
   "source": [
    "plt.figure(figsize=(200,100))"
   ]
  },
  {
   "cell_type": "code",
   "execution_count": 122,
   "metadata": {},
   "outputs": [
    {
     "data": {
      "text/plain": [
       "<wordcloud.wordcloud.WordCloud at 0x22170173e80>"
      ]
     },
     "execution_count": 122,
     "metadata": {},
     "output_type": "execute_result"
    }
   ],
   "source": [
    "wc = WordCloud(background_color=\"black\", max_words=50, \n",
    "                stopwords=STOPWORDS, max_font_size= 40)\n",
    "wc.generate(\" \".join(mws))"
   ]
  },
  {
   "cell_type": "code",
   "execution_count": 123,
   "metadata": {},
   "outputs": [
    {
     "data": {
      "text/plain": [
       "(-0.5, 399.5, 199.5, -0.5)"
      ]
     },
     "execution_count": 123,
     "metadata": {},
     "output_type": "execute_result"
    },
    {
     "data": {
      "image/png": "[encoded data removed]",
      "text/plain": [
       "<matplotlib.figure.Figure at 0x2217060eac8>"
      ]
     },
     "metadata": {},
     "output_type": "display_data"
    }
   ],
   "source": [
    "plt.title(\"Mary Wollstonecraft Shelley\", fontsize=16)\n",
    "plt.imshow(wc,alpha=0.90)\n",
    "plt.axis('off')"
   ]
  },
  {
   "cell_type": "code",
   "execution_count": 124,
   "metadata": {
    "collapsed": true
   },
   "outputs": [],
   "source": [
    "from nltk.util import ngrams\n",
    "from collections import Counter"
   ]
  },
  {
   "cell_type": "code",
   "execution_count": 125,
   "metadata": {
    "collapsed": true
   },
   "outputs": [],
   "source": [
    "## Helper Functions\n",
    "def get_ngrams(text, n):\n",
    "    n_grams = ngrams((text), n)\n",
    "    return [ ' '.join(grams) for grams in n_grams]\n",
    "\n",
    "def gramfreq(text,n,num):\n",
    "    # Extracting bigrams\n",
    "    result = get_ngrams(text,n)\n",
    "    # Counting bigrams\n",
    "    result_count = Counter(result)\n",
    "    # Converting to the result to a data frame\n",
    "    df = pd.DataFrame.from_dict(result_count, orient='index')\n",
    "    df = df.rename(columns={'index':'words', 0:'frequency'}) # Renaming index column name\n",
    "    return df.sort_values([\"frequency\"],ascending=[0])[:num]\n",
    "\n",
    "def gram_table(x, gram, length):\n",
    "    out = pd.DataFrame(index=None)\n",
    "    for i in gram:\n",
    "        table = pd.DataFrame(gramfreq(preprocessing(train[train.author == x]['text']),i,length).reset_index())\n",
    "        table.columns = [\"{}-Gram\".format(i),\"Occurence\"]\n",
    "        out = pd.concat([out, table], axis=1)\n",
    "    return out"
   ]
  },
  {
   "cell_type": "code",
   "execution_count": 126,
   "metadata": {},
   "outputs": [
    {
     "data": {
      "text/html": [
       "<div>\n",
       "<style>\n",
       "    .dataframe thead tr:only-child th {\n",
       "        text-align: right;\n",
       "    }\n",
       "\n",
       "    .dataframe thead th {\n",
       "        text-align: left;\n",
       "    }\n",
       "\n",
       "    .dataframe tbody tr th {\n",
       "        vertical-align: top;\n",
       "    }\n",
       "</style>\n",
       "<table border=\"1\" class=\"dataframe\">\n",
       "  <thead>\n",
       "    <tr style=\"text-align: right;\">\n",
       "      <th></th>\n",
       "      <th>1-Gram</th>\n",
       "      <th>Occurence</th>\n",
       "      <th>2-Gram</th>\n",
       "      <th>Occurence</th>\n",
       "      <th>3-Gram</th>\n",
       "      <th>Occurence</th>\n",
       "      <th>4-Gram</th>\n",
       "      <th>Occurence</th>\n",
       "    </tr>\n",
       "  </thead>\n",
       "  <tbody>\n",
       "    <tr>\n",
       "      <th>0</th>\n",
       "      <td>upon</td>\n",
       "      <td>1025</td>\n",
       "      <td>let u</td>\n",
       "      <td>50</td>\n",
       "      <td>madame l espanaye</td>\n",
       "      <td>12</td>\n",
       "      <td>general john b c</td>\n",
       "      <td>12</td>\n",
       "    </tr>\n",
       "    <tr>\n",
       "      <th>1</th>\n",
       "      <td>one</td>\n",
       "      <td>671</td>\n",
       "      <td>three four</td>\n",
       "      <td>23</td>\n",
       "      <td>general john b</td>\n",
       "      <td>12</td>\n",
       "      <td>brigadier general john b</td>\n",
       "      <td>7</td>\n",
       "    </tr>\n",
       "    <tr>\n",
       "      <th>2</th>\n",
       "      <td>could</td>\n",
       "      <td>453</td>\n",
       "      <td>l etoile</td>\n",
       "      <td>23</td>\n",
       "      <td>john b c</td>\n",
       "      <td>12</td>\n",
       "      <td>ugh ugh ugh ugh</td>\n",
       "      <td>6</td>\n",
       "    </tr>\n",
       "    <tr>\n",
       "      <th>3</th>\n",
       "      <td>would</td>\n",
       "      <td>409</td>\n",
       "      <td>one two</td>\n",
       "      <td>23</td>\n",
       "      <td>ha ha ha</td>\n",
       "      <td>11</td>\n",
       "      <td>brevet brigadier general john</td>\n",
       "      <td>6</td>\n",
       "    </tr>\n",
       "    <tr>\n",
       "      <th>4</th>\n",
       "      <td>said</td>\n",
       "      <td>356</td>\n",
       "      <td>every thing</td>\n",
       "      <td>22</td>\n",
       "      <td>barrière du roule</td>\n",
       "      <td>10</td>\n",
       "      <td>john b c smith</td>\n",
       "      <td>6</td>\n",
       "    </tr>\n",
       "    <tr>\n",
       "      <th>5</th>\n",
       "      <td>say</td>\n",
       "      <td>314</td>\n",
       "      <td>ha ha</td>\n",
       "      <td>22</td>\n",
       "      <td>ugh ugh ugh</td>\n",
       "      <td>8</td>\n",
       "      <td>angle forty five degree</td>\n",
       "      <td>5</td>\n",
       "    </tr>\n",
       "    <tr>\n",
       "      <th>6</th>\n",
       "      <td>time</td>\n",
       "      <td>314</td>\n",
       "      <td>main compartment</td>\n",
       "      <td>21</td>\n",
       "      <td>brigadier general john</td>\n",
       "      <td>7</td>\n",
       "      <td>detecting bringing practice nice</td>\n",
       "      <td>4</td>\n",
       "    </tr>\n",
       "    <tr>\n",
       "      <th>7</th>\n",
       "      <td>little</td>\n",
       "      <td>275</td>\n",
       "      <td>old man</td>\n",
       "      <td>21</td>\n",
       "      <td>de l omelette</td>\n",
       "      <td>7</td>\n",
       "      <td>doctor dubble l dee</td>\n",
       "      <td>4</td>\n",
       "    </tr>\n",
       "    <tr>\n",
       "      <th>8</th>\n",
       "      <td>well</td>\n",
       "      <td>266</td>\n",
       "      <td>said dupin</td>\n",
       "      <td>21</td>\n",
       "      <td>forty five degree</td>\n",
       "      <td>7</td>\n",
       "      <td>mille mille mille mille</td>\n",
       "      <td>4</td>\n",
       "    </tr>\n",
       "    <tr>\n",
       "      <th>9</th>\n",
       "      <td>eye</td>\n",
       "      <td>266</td>\n",
       "      <td>madame lalande</td>\n",
       "      <td>20</td>\n",
       "      <td>mille mille mille</td>\n",
       "      <td>7</td>\n",
       "      <td>thrown water immediately death</td>\n",
       "      <td>4</td>\n",
       "    </tr>\n",
       "    <tr>\n",
       "      <th>10</th>\n",
       "      <td>made</td>\n",
       "      <td>263</td>\n",
       "      <td>looked upon</td>\n",
       "      <td>20</td>\n",
       "      <td>twenty four hour</td>\n",
       "      <td>6</td>\n",
       "      <td>body thrown water immediately</td>\n",
       "      <td>4</td>\n",
       "    </tr>\n",
       "    <tr>\n",
       "      <th>11</th>\n",
       "      <td>even</td>\n",
       "      <td>261</td>\n",
       "      <td>could help</td>\n",
       "      <td>19</td>\n",
       "      <td>rue de drômes</td>\n",
       "      <td>6</td>\n",
       "      <td>water immediately death violence</td>\n",
       "      <td>4</td>\n",
       "    </tr>\n",
       "    <tr>\n",
       "      <th>12</th>\n",
       "      <td>day</td>\n",
       "      <td>258</td>\n",
       "      <td>chess player</td>\n",
       "      <td>18</td>\n",
       "      <td>thousand pound said</td>\n",
       "      <td>6</td>\n",
       "      <td>practice nice relation size</td>\n",
       "      <td>4</td>\n",
       "    </tr>\n",
       "    <tr>\n",
       "      <th>13</th>\n",
       "      <td>man</td>\n",
       "      <td>257</td>\n",
       "      <td>well known</td>\n",
       "      <td>18</td>\n",
       "      <td>brevet brigadier general</td>\n",
       "      <td>6</td>\n",
       "      <td>thousand thousand thousand thousand</td>\n",
       "      <td>4</td>\n",
       "    </tr>\n",
       "    <tr>\n",
       "      <th>14</th>\n",
       "      <td>thus</td>\n",
       "      <td>254</td>\n",
       "      <td>every one</td>\n",
       "      <td>18</td>\n",
       "      <td>thousand thousand thousand</td>\n",
       "      <td>6</td>\n",
       "      <td>drum rowdy dow goosetherumfoodle</td>\n",
       "      <td>4</td>\n",
       "    </tr>\n",
       "    <tr>\n",
       "      <th>15</th>\n",
       "      <td>however</td>\n",
       "      <td>254</td>\n",
       "      <td>mr crab</td>\n",
       "      <td>17</td>\n",
       "      <td>b c smith</td>\n",
       "      <td>6</td>\n",
       "      <td>hum drum rowdy dow</td>\n",
       "      <td>4</td>\n",
       "    </tr>\n",
       "    <tr>\n",
       "      <th>16</th>\n",
       "      <td>first</td>\n",
       "      <td>249</td>\n",
       "      <td>madame l</td>\n",
       "      <td>17</td>\n",
       "      <td>little old gentleman</td>\n",
       "      <td>6</td>\n",
       "      <td>twenty four thousand mile</td>\n",
       "      <td>4</td>\n",
       "    </tr>\n",
       "    <tr>\n",
       "      <th>17</th>\n",
       "      <td>u</td>\n",
       "      <td>241</td>\n",
       "      <td>l espanaye</td>\n",
       "      <td>17</td>\n",
       "      <td>mr thingum bob</td>\n",
       "      <td>5</td>\n",
       "      <td>nice relation size proportion</td>\n",
       "      <td>4</td>\n",
       "    </tr>\n",
       "    <tr>\n",
       "      <th>18</th>\n",
       "      <td>yet</td>\n",
       "      <td>232</td>\n",
       "      <td>beyond doubt</td>\n",
       "      <td>16</td>\n",
       "      <td>angle forty five</td>\n",
       "      <td>5</td>\n",
       "      <td>bringing practice nice relation</td>\n",
       "      <td>4</td>\n",
       "    </tr>\n",
       "    <tr>\n",
       "      <th>19</th>\n",
       "      <td>much</td>\n",
       "      <td>230</td>\n",
       "      <td>state room</td>\n",
       "      <td>15</td>\n",
       "      <td>mademoiselle l espanaye</td>\n",
       "      <td>5</td>\n",
       "      <td>relation size proportion color</td>\n",
       "      <td>4</td>\n",
       "    </tr>\n",
       "  </tbody>\n",
       "</table>\n",
       "</div>"
      ],
      "text/plain": [
       "     1-Gram  Occurence            2-Gram  Occurence  \\\n",
       "0      upon       1025             let u         50   \n",
       "1       one        671        three four         23   \n",
       "2     could        453          l etoile         23   \n",
       "3     would        409           one two         23   \n",
       "4      said        356       every thing         22   \n",
       "5       say        314             ha ha         22   \n",
       "6      time        314  main compartment         21   \n",
       "7    little        275           old man         21   \n",
       "8      well        266        said dupin         21   \n",
       "9       eye        266    madame lalande         20   \n",
       "10     made        263       looked upon         20   \n",
       "11     even        261        could help         19   \n",
       "12      day        258      chess player         18   \n",
       "13      man        257        well known         18   \n",
       "14     thus        254         every one         18   \n",
       "15  however        254           mr crab         17   \n",
       "16    first        249          madame l         17   \n",
       "17        u        241        l espanaye         17   \n",
       "18      yet        232      beyond doubt         16   \n",
       "19     much        230        state room         15   \n",
       "\n",
       "                        3-Gram  Occurence  \\\n",
       "0            madame l espanaye         12   \n",
       "1               general john b         12   \n",
       "2                     john b c         12   \n",
       "3                     ha ha ha         11   \n",
       "4            barrière du roule         10   \n",
       "5                  ugh ugh ugh          8   \n",
       "6       brigadier general john          7   \n",
       "7                de l omelette          7   \n",
       "8            forty five degree          7   \n",
       "9            mille mille mille          7   \n",
       "10            twenty four hour          6   \n",
       "11               rue de drômes          6   \n",
       "12         thousand pound said          6   \n",
       "13    brevet brigadier general          6   \n",
       "14  thousand thousand thousand          6   \n",
       "15                   b c smith          6   \n",
       "16        little old gentleman          6   \n",
       "17              mr thingum bob          5   \n",
       "18            angle forty five          5   \n",
       "19     mademoiselle l espanaye          5   \n",
       "\n",
       "                                 4-Gram  Occurence  \n",
       "0                      general john b c         12  \n",
       "1              brigadier general john b          7  \n",
       "2                       ugh ugh ugh ugh          6  \n",
       "3         brevet brigadier general john          6  \n",
       "4                        john b c smith          6  \n",
       "5               angle forty five degree          5  \n",
       "6      detecting bringing practice nice          4  \n",
       "7                   doctor dubble l dee          4  \n",
       "8               mille mille mille mille          4  \n",
       "9        thrown water immediately death          4  \n",
       "10        body thrown water immediately          4  \n",
       "11     water immediately death violence          4  \n",
       "12          practice nice relation size          4  \n",
       "13  thousand thousand thousand thousand          4  \n",
       "14     drum rowdy dow goosetherumfoodle          4  \n",
       "15                   hum drum rowdy dow          4  \n",
       "16            twenty four thousand mile          4  \n",
       "17        nice relation size proportion          4  \n",
       "18      bringing practice nice relation          4  \n",
       "19       relation size proportion color          4  "
      ]
     },
     "execution_count": 126,
     "metadata": {},
     "output_type": "execute_result"
    }
   ],
   "source": [
    "gram_table(x=\"EAP\", gram=[1,2,3,4], length=20)"
   ]
  },
  {
   "cell_type": "code",
   "execution_count": 127,
   "metadata": {},
   "outputs": [
    {
     "data": {
      "text/html": [
       "<div>\n",
       "<style>\n",
       "    .dataframe thead tr:only-child th {\n",
       "        text-align: right;\n",
       "    }\n",
       "\n",
       "    .dataframe thead th {\n",
       "        text-align: left;\n",
       "    }\n",
       "\n",
       "    .dataframe tbody tr th {\n",
       "        vertical-align: top;\n",
       "    }\n",
       "</style>\n",
       "<table border=\"1\" class=\"dataframe\">\n",
       "  <thead>\n",
       "    <tr style=\"text-align: right;\">\n",
       "      <th></th>\n",
       "      <th>1-Gram</th>\n",
       "      <th>Occurence</th>\n",
       "      <th>2-Gram</th>\n",
       "      <th>Occurence</th>\n",
       "      <th>3-Gram</th>\n",
       "      <th>Occurence</th>\n",
       "      <th>4-Gram</th>\n",
       "      <th>Occurence</th>\n",
       "    </tr>\n",
       "  </thead>\n",
       "  <tbody>\n",
       "    <tr>\n",
       "      <th>0</th>\n",
       "      <td>one</td>\n",
       "      <td>516</td>\n",
       "      <td>old man</td>\n",
       "      <td>59</td>\n",
       "      <td>heh heh heh</td>\n",
       "      <td>9</td>\n",
       "      <td>eric moreland clapham lee</td>\n",
       "      <td>4</td>\n",
       "    </tr>\n",
       "    <tr>\n",
       "      <th>1</th>\n",
       "      <td>could</td>\n",
       "      <td>480</td>\n",
       "      <td>could see</td>\n",
       "      <td>31</td>\n",
       "      <td>terrible old man</td>\n",
       "      <td>9</td>\n",
       "      <td>oonai city lute dancing</td>\n",
       "      <td>4</td>\n",
       "    </tr>\n",
       "    <tr>\n",
       "      <th>2</th>\n",
       "      <td>thing</td>\n",
       "      <td>433</td>\n",
       "      <td>one night</td>\n",
       "      <td>23</td>\n",
       "      <td>charles le sorcier</td>\n",
       "      <td>8</td>\n",
       "      <td>aira city marble beryl</td>\n",
       "      <td>4</td>\n",
       "    </tr>\n",
       "    <tr>\n",
       "      <th>3</th>\n",
       "      <td>old</td>\n",
       "      <td>392</td>\n",
       "      <td>old woman</td>\n",
       "      <td>22</td>\n",
       "      <td>small paned window</td>\n",
       "      <td>8</td>\n",
       "      <td>mad arab abdul alhazred</td>\n",
       "      <td>4</td>\n",
       "    </tr>\n",
       "    <tr>\n",
       "      <th>4</th>\n",
       "      <td>would</td>\n",
       "      <td>357</td>\n",
       "      <td>one might</td>\n",
       "      <td>19</td>\n",
       "      <td>great great great</td>\n",
       "      <td>6</td>\n",
       "      <td>necronomicon mad arab abdul</td>\n",
       "      <td>4</td>\n",
       "    </tr>\n",
       "    <tr>\n",
       "      <th>5</th>\n",
       "      <td>man</td>\n",
       "      <td>280</td>\n",
       "      <td>one could</td>\n",
       "      <td>18</td>\n",
       "      <td>city marble beryl</td>\n",
       "      <td>5</td>\n",
       "      <td>village plain edge bog</td>\n",
       "      <td>3</td>\n",
       "    </tr>\n",
       "    <tr>\n",
       "      <th>6</th>\n",
       "      <td>time</td>\n",
       "      <td>279</td>\n",
       "      <td>shunned house</td>\n",
       "      <td>17</td>\n",
       "      <td>cap n obed</td>\n",
       "      <td>5</td>\n",
       "      <td>sir eric moreland clapham</td>\n",
       "      <td>3</td>\n",
       "    </tr>\n",
       "    <tr>\n",
       "      <th>7</th>\n",
       "      <td>like</td>\n",
       "      <td>273</td>\n",
       "      <td>next day</td>\n",
       "      <td>17</td>\n",
       "      <td>great old one</td>\n",
       "      <td>4</td>\n",
       "      <td>nithra fall tiny kra</td>\n",
       "      <td>3</td>\n",
       "    </tr>\n",
       "    <tr>\n",
       "      <th>8</th>\n",
       "      <td>seemed</td>\n",
       "      <td>272</td>\n",
       "      <td>heh heh</td>\n",
       "      <td>17</td>\n",
       "      <td>new church green</td>\n",
       "      <td>4</td>\n",
       "      <td>heh heh heh heh</td>\n",
       "      <td>3</td>\n",
       "    </tr>\n",
       "    <tr>\n",
       "      <th>9</th>\n",
       "      <td>night</td>\n",
       "      <td>260</td>\n",
       "      <td>could tell</td>\n",
       "      <td>16</td>\n",
       "      <td>thraa ilarnek kadatheron</td>\n",
       "      <td>4</td>\n",
       "      <td>region sea meet sky</td>\n",
       "      <td>3</td>\n",
       "    </tr>\n",
       "    <tr>\n",
       "      <th>10</th>\n",
       "      <td>house</td>\n",
       "      <td>255</td>\n",
       "      <td>new england</td>\n",
       "      <td>16</td>\n",
       "      <td>small hour morning</td>\n",
       "      <td>4</td>\n",
       "      <td>great great great grandfather</td>\n",
       "      <td>3</td>\n",
       "    </tr>\n",
       "    <tr>\n",
       "      <th>11</th>\n",
       "      <td>saw</td>\n",
       "      <td>235</td>\n",
       "      <td>one thing</td>\n",
       "      <td>16</td>\n",
       "      <td>moreland clapham lee</td>\n",
       "      <td>4</td>\n",
       "      <td>blue eye soft voice</td>\n",
       "      <td>2</td>\n",
       "    </tr>\n",
       "    <tr>\n",
       "      <th>12</th>\n",
       "      <td>though</td>\n",
       "      <td>234</td>\n",
       "      <td>year ago</td>\n",
       "      <td>15</td>\n",
       "      <td>eric moreland clapham</td>\n",
       "      <td>4</td>\n",
       "      <td>though one might well</td>\n",
       "      <td>2</td>\n",
       "    </tr>\n",
       "    <tr>\n",
       "      <th>13</th>\n",
       "      <td>came</td>\n",
       "      <td>216</td>\n",
       "      <td>one another</td>\n",
       "      <td>14</td>\n",
       "      <td>arab abdul alhazred</td>\n",
       "      <td>4</td>\n",
       "      <td>watching eye strives convey</td>\n",
       "      <td>2</td>\n",
       "    </tr>\n",
       "    <tr>\n",
       "      <th>14</th>\n",
       "      <td>men</td>\n",
       "      <td>204</td>\n",
       "      <td>herbert west</td>\n",
       "      <td>14</td>\n",
       "      <td>mad arab abdul</td>\n",
       "      <td>4</td>\n",
       "      <td>insane watching eye strives</td>\n",
       "      <td>2</td>\n",
       "    </tr>\n",
       "    <tr>\n",
       "      <th>15</th>\n",
       "      <td>day</td>\n",
       "      <td>197</td>\n",
       "      <td>tempest mountain</td>\n",
       "      <td>14</td>\n",
       "      <td>necronomicon mad arab</td>\n",
       "      <td>4</td>\n",
       "      <td>like insane watching eye</td>\n",
       "      <td>2</td>\n",
       "    </tr>\n",
       "    <tr>\n",
       "      <th>16</th>\n",
       "      <td>great</td>\n",
       "      <td>195</td>\n",
       "      <td>small hour</td>\n",
       "      <td>14</td>\n",
       "      <td>basalt pillar west</td>\n",
       "      <td>4</td>\n",
       "      <td>killin sheep kinder fun</td>\n",
       "      <td>2</td>\n",
       "    </tr>\n",
       "    <tr>\n",
       "      <th>17</th>\n",
       "      <td>never</td>\n",
       "      <td>193</td>\n",
       "      <td>ancient house</td>\n",
       "      <td>13</td>\n",
       "      <td>city lute dancing</td>\n",
       "      <td>4</td>\n",
       "      <td>hideously like insane watching</td>\n",
       "      <td>2</td>\n",
       "    </tr>\n",
       "    <tr>\n",
       "      <th>18</th>\n",
       "      <td>even</td>\n",
       "      <td>192</td>\n",
       "      <td>brown jenkin</td>\n",
       "      <td>13</td>\n",
       "      <td>sea meet sky</td>\n",
       "      <td>4</td>\n",
       "      <td>sea green stone idol</td>\n",
       "      <td>2</td>\n",
       "    </tr>\n",
       "    <tr>\n",
       "      <th>19</th>\n",
       "      <td>street</td>\n",
       "      <td>189</td>\n",
       "      <td>sir wade</td>\n",
       "      <td>13</td>\n",
       "      <td>small furry thing</td>\n",
       "      <td>4</td>\n",
       "      <td>broad washington lafayette adam</td>\n",
       "      <td>2</td>\n",
       "    </tr>\n",
       "  </tbody>\n",
       "</table>\n",
       "</div>"
      ],
      "text/plain": [
       "    1-Gram  Occurence            2-Gram  Occurence                    3-Gram  \\\n",
       "0      one        516           old man         59               heh heh heh   \n",
       "1    could        480         could see         31          terrible old man   \n",
       "2    thing        433         one night         23        charles le sorcier   \n",
       "3      old        392         old woman         22        small paned window   \n",
       "4    would        357         one might         19         great great great   \n",
       "5      man        280         one could         18         city marble beryl   \n",
       "6     time        279     shunned house         17                cap n obed   \n",
       "7     like        273          next day         17             great old one   \n",
       "8   seemed        272           heh heh         17          new church green   \n",
       "9    night        260        could tell         16  thraa ilarnek kadatheron   \n",
       "10   house        255       new england         16        small hour morning   \n",
       "11     saw        235         one thing         16      moreland clapham lee   \n",
       "12  though        234          year ago         15     eric moreland clapham   \n",
       "13    came        216       one another         14       arab abdul alhazred   \n",
       "14     men        204      herbert west         14            mad arab abdul   \n",
       "15     day        197  tempest mountain         14     necronomicon mad arab   \n",
       "16   great        195        small hour         14        basalt pillar west   \n",
       "17   never        193     ancient house         13         city lute dancing   \n",
       "18    even        192      brown jenkin         13              sea meet sky   \n",
       "19  street        189          sir wade         13         small furry thing   \n",
       "\n",
       "    Occurence                           4-Gram  Occurence  \n",
       "0           9        eric moreland clapham lee          4  \n",
       "1           9          oonai city lute dancing          4  \n",
       "2           8           aira city marble beryl          4  \n",
       "3           8          mad arab abdul alhazred          4  \n",
       "4           6      necronomicon mad arab abdul          4  \n",
       "5           5           village plain edge bog          3  \n",
       "6           5        sir eric moreland clapham          3  \n",
       "7           4             nithra fall tiny kra          3  \n",
       "8           4                  heh heh heh heh          3  \n",
       "9           4              region sea meet sky          3  \n",
       "10          4    great great great grandfather          3  \n",
       "11          4              blue eye soft voice          2  \n",
       "12          4            though one might well          2  \n",
       "13          4      watching eye strives convey          2  \n",
       "14          4      insane watching eye strives          2  \n",
       "15          4         like insane watching eye          2  \n",
       "16          4          killin sheep kinder fun          2  \n",
       "17          4   hideously like insane watching          2  \n",
       "18          4             sea green stone idol          2  \n",
       "19          4  broad washington lafayette adam          2  "
      ]
     },
     "execution_count": 127,
     "metadata": {},
     "output_type": "execute_result"
    }
   ],
   "source": [
    "gram_table(x=\"HPL\", gram=[1,2,3,4], length=20)"
   ]
  },
  {
   "cell_type": "code",
   "execution_count": 128,
   "metadata": {},
   "outputs": [
    {
     "data": {
      "text/html": [
       "<div>\n",
       "<style>\n",
       "    .dataframe thead tr:only-child th {\n",
       "        text-align: right;\n",
       "    }\n",
       "\n",
       "    .dataframe thead th {\n",
       "        text-align: left;\n",
       "    }\n",
       "\n",
       "    .dataframe tbody tr th {\n",
       "        vertical-align: top;\n",
       "    }\n",
       "</style>\n",
       "<table border=\"1\" class=\"dataframe\">\n",
       "  <thead>\n",
       "    <tr style=\"text-align: right;\">\n",
       "      <th></th>\n",
       "      <th>1-Gram</th>\n",
       "      <th>Occurence</th>\n",
       "      <th>2-Gram</th>\n",
       "      <th>Occurence</th>\n",
       "      <th>3-Gram</th>\n",
       "      <th>Occurence</th>\n",
       "      <th>4-Gram</th>\n",
       "      <th>Occurence</th>\n",
       "    </tr>\n",
       "  </thead>\n",
       "  <tbody>\n",
       "    <tr>\n",
       "      <th>0</th>\n",
       "      <td>one</td>\n",
       "      <td>489</td>\n",
       "      <td>old man</td>\n",
       "      <td>29</td>\n",
       "      <td>let u go</td>\n",
       "      <td>4</td>\n",
       "      <td>next day next hour</td>\n",
       "      <td>2</td>\n",
       "    </tr>\n",
       "    <tr>\n",
       "      <th>1</th>\n",
       "      <td>would</td>\n",
       "      <td>475</td>\n",
       "      <td>lord raymond</td>\n",
       "      <td>28</td>\n",
       "      <td>whole human race</td>\n",
       "      <td>3</td>\n",
       "      <td>nearest town took post</td>\n",
       "      <td>2</td>\n",
       "    </tr>\n",
       "    <tr>\n",
       "      <th>2</th>\n",
       "      <td>could</td>\n",
       "      <td>383</td>\n",
       "      <td>fellow creature</td>\n",
       "      <td>23</td>\n",
       "      <td>became every day</td>\n",
       "      <td>3</td>\n",
       "      <td>abode near hyde park</td>\n",
       "      <td>2</td>\n",
       "    </tr>\n",
       "    <tr>\n",
       "      <th>3</th>\n",
       "      <td>life</td>\n",
       "      <td>350</td>\n",
       "      <td>one day</td>\n",
       "      <td>21</td>\n",
       "      <td>time lord raymond</td>\n",
       "      <td>3</td>\n",
       "      <td>five year old mother</td>\n",
       "      <td>2</td>\n",
       "    </tr>\n",
       "    <tr>\n",
       "      <th>4</th>\n",
       "      <td>yet</td>\n",
       "      <td>318</td>\n",
       "      <td>let u</td>\n",
       "      <td>16</td>\n",
       "      <td>might one day</td>\n",
       "      <td>3</td>\n",
       "      <td>like thousand pack wolf</td>\n",
       "      <td>2</td>\n",
       "    </tr>\n",
       "    <tr>\n",
       "      <th>5</th>\n",
       "      <td>day</td>\n",
       "      <td>288</td>\n",
       "      <td>native country</td>\n",
       "      <td>16</td>\n",
       "      <td>hundred thousand year</td>\n",
       "      <td>3</td>\n",
       "      <td>one day may claim</td>\n",
       "      <td>2</td>\n",
       "    </tr>\n",
       "    <tr>\n",
       "      <th>6</th>\n",
       "      <td>heart</td>\n",
       "      <td>284</td>\n",
       "      <td>day night</td>\n",
       "      <td>15</td>\n",
       "      <td>month elapsed since</td>\n",
       "      <td>3</td>\n",
       "      <td>day may claim hand</td>\n",
       "      <td>2</td>\n",
       "    </tr>\n",
       "    <tr>\n",
       "      <th>7</th>\n",
       "      <td>eye</td>\n",
       "      <td>284</td>\n",
       "      <td>every day</td>\n",
       "      <td>15</td>\n",
       "      <td>first rank among</td>\n",
       "      <td>3</td>\n",
       "      <td>accused caused death brother</td>\n",
       "      <td>2</td>\n",
       "    </tr>\n",
       "    <tr>\n",
       "      <th>8</th>\n",
       "      <td>love</td>\n",
       "      <td>282</td>\n",
       "      <td>taken place</td>\n",
       "      <td>14</td>\n",
       "      <td>change taken place</td>\n",
       "      <td>3</td>\n",
       "      <td>nothing painful human mind</td>\n",
       "      <td>2</td>\n",
       "    </tr>\n",
       "    <tr>\n",
       "      <th>9</th>\n",
       "      <td>time</td>\n",
       "      <td>276</td>\n",
       "      <td>two year</td>\n",
       "      <td>12</td>\n",
       "      <td>nearly two year</td>\n",
       "      <td>3</td>\n",
       "      <td>castle found repose love</td>\n",
       "      <td>1</td>\n",
       "    </tr>\n",
       "    <tr>\n",
       "      <th>10</th>\n",
       "      <td>u</td>\n",
       "      <td>272</td>\n",
       "      <td>earl windsor</td>\n",
       "      <td>12</td>\n",
       "      <td>five year old</td>\n",
       "      <td>3</td>\n",
       "      <td>returned castle found repose</td>\n",
       "      <td>1</td>\n",
       "    </tr>\n",
       "    <tr>\n",
       "      <th>11</th>\n",
       "      <td>raymond</td>\n",
       "      <td>270</td>\n",
       "      <td>one one</td>\n",
       "      <td>12</td>\n",
       "      <td>woman year age</td>\n",
       "      <td>2</td>\n",
       "      <td>night returned castle found</td>\n",
       "      <td>1</td>\n",
       "    </tr>\n",
       "    <tr>\n",
       "      <th>12</th>\n",
       "      <td>might</td>\n",
       "      <td>269</td>\n",
       "      <td>every one</td>\n",
       "      <td>12</td>\n",
       "      <td>rushed towards embraced</td>\n",
       "      <td>2</td>\n",
       "      <td>music night returned castle</td>\n",
       "      <td>1</td>\n",
       "    </tr>\n",
       "    <tr>\n",
       "      <th>13</th>\n",
       "      <td>even</td>\n",
       "      <td>248</td>\n",
       "      <td>year age</td>\n",
       "      <td>12</td>\n",
       "      <td>made solemn vow</td>\n",
       "      <td>2</td>\n",
       "      <td>recourse music night returned</td>\n",
       "      <td>1</td>\n",
       "    </tr>\n",
       "    <tr>\n",
       "      <th>14</th>\n",
       "      <td>man</td>\n",
       "      <td>242</td>\n",
       "      <td>first time</td>\n",
       "      <td>12</td>\n",
       "      <td>create another like</td>\n",
       "      <td>2</td>\n",
       "      <td>idris well content resolve</td>\n",
       "      <td>1</td>\n",
       "    </tr>\n",
       "    <tr>\n",
       "      <th>15</th>\n",
       "      <td>every</td>\n",
       "      <td>233</td>\n",
       "      <td>mean time</td>\n",
       "      <td>11</td>\n",
       "      <td>place every one</td>\n",
       "      <td>2</td>\n",
       "      <td>found repose love awaiting</td>\n",
       "      <td>1</td>\n",
       "    </tr>\n",
       "    <tr>\n",
       "      <th>16</th>\n",
       "      <td>thought</td>\n",
       "      <td>230</td>\n",
       "      <td>day day</td>\n",
       "      <td>11</td>\n",
       "      <td>lord protector benefit</td>\n",
       "      <td>2</td>\n",
       "      <td>perdita insisted recourse music</td>\n",
       "      <td>1</td>\n",
       "    </tr>\n",
       "    <tr>\n",
       "      <th>17</th>\n",
       "      <td>father</td>\n",
       "      <td>213</td>\n",
       "      <td>eye fixed</td>\n",
       "      <td>11</td>\n",
       "      <td>day may claim</td>\n",
       "      <td>2</td>\n",
       "      <td>evening perdita insisted recourse</td>\n",
       "      <td>1</td>\n",
       "    </tr>\n",
       "    <tr>\n",
       "      <th>18</th>\n",
       "      <td>must</td>\n",
       "      <td>212</td>\n",
       "      <td>poor girl</td>\n",
       "      <td>11</td>\n",
       "      <td>soon pas away</td>\n",
       "      <td>2</td>\n",
       "      <td>towards evening perdita insisted</td>\n",
       "      <td>1</td>\n",
       "    </tr>\n",
       "    <tr>\n",
       "      <th>19</th>\n",
       "      <td>first</td>\n",
       "      <td>211</td>\n",
       "      <td>among u</td>\n",
       "      <td>11</td>\n",
       "      <td>may claim hand</td>\n",
       "      <td>2</td>\n",
       "      <td>assembled towards evening perdita</td>\n",
       "      <td>1</td>\n",
       "    </tr>\n",
       "  </tbody>\n",
       "</table>\n",
       "</div>"
      ],
      "text/plain": [
       "     1-Gram  Occurence           2-Gram  Occurence                   3-Gram  \\\n",
       "0       one        489          old man         29                 let u go   \n",
       "1     would        475     lord raymond         28         whole human race   \n",
       "2     could        383  fellow creature         23         became every day   \n",
       "3      life        350          one day         21        time lord raymond   \n",
       "4       yet        318            let u         16            might one day   \n",
       "5       day        288   native country         16    hundred thousand year   \n",
       "6     heart        284        day night         15      month elapsed since   \n",
       "7       eye        284        every day         15         first rank among   \n",
       "8      love        282      taken place         14       change taken place   \n",
       "9      time        276         two year         12          nearly two year   \n",
       "10        u        272     earl windsor         12            five year old   \n",
       "11  raymond        270          one one         12           woman year age   \n",
       "12    might        269        every one         12  rushed towards embraced   \n",
       "13     even        248         year age         12          made solemn vow   \n",
       "14      man        242       first time         12      create another like   \n",
       "15    every        233        mean time         11          place every one   \n",
       "16  thought        230          day day         11   lord protector benefit   \n",
       "17   father        213        eye fixed         11            day may claim   \n",
       "18     must        212        poor girl         11            soon pas away   \n",
       "19    first        211          among u         11           may claim hand   \n",
       "\n",
       "    Occurence                             4-Gram  Occurence  \n",
       "0           4                 next day next hour          2  \n",
       "1           3             nearest town took post          2  \n",
       "2           3               abode near hyde park          2  \n",
       "3           3               five year old mother          2  \n",
       "4           3            like thousand pack wolf          2  \n",
       "5           3                  one day may claim          2  \n",
       "6           3                 day may claim hand          2  \n",
       "7           3       accused caused death brother          2  \n",
       "8           3         nothing painful human mind          2  \n",
       "9           3           castle found repose love          1  \n",
       "10          3       returned castle found repose          1  \n",
       "11          2        night returned castle found          1  \n",
       "12          2        music night returned castle          1  \n",
       "13          2      recourse music night returned          1  \n",
       "14          2         idris well content resolve          1  \n",
       "15          2         found repose love awaiting          1  \n",
       "16          2    perdita insisted recourse music          1  \n",
       "17          2  evening perdita insisted recourse          1  \n",
       "18          2   towards evening perdita insisted          1  \n",
       "19          2  assembled towards evening perdita          1  "
      ]
     },
     "execution_count": 128,
     "metadata": {},
     "output_type": "execute_result"
    }
   ],
   "source": [
    "gram_table(x=\"MWS\", gram=[1,2,3,4], length=20)"
   ]
  },
  {
   "cell_type": "code",
   "execution_count": null,
   "metadata": {
    "collapsed": true
   },
   "outputs": [],
   "source": []
  },
  {
   "cell_type": "code",
   "execution_count": 129,
   "metadata": {
    "collapsed": true
   },
   "outputs": [],
   "source": [
    "train_df = train\n",
    "\n",
    "# convert author labels into numerical variables\n",
    "train_df['author_num'] = train_df.author.map({'EAP':0, 'HPL':1, 'MWS':2})\n"
   ]
  },
  {
   "cell_type": "code",
   "execution_count": 130,
   "metadata": {
    "collapsed": true
   },
   "outputs": [],
   "source": [
    "\n",
    "#train_df = train_df.drop(\"author\",axis=1)\n"
   ]
  },
  {
   "cell_type": "code",
   "execution_count": 131,
   "metadata": {},
   "outputs": [
    {
     "data": {
      "text/html": [
       "<div>\n",
       "<style>\n",
       "    .dataframe thead tr:only-child th {\n",
       "        text-align: right;\n",
       "    }\n",
       "\n",
       "    .dataframe thead th {\n",
       "        text-align: left;\n",
       "    }\n",
       "\n",
       "    .dataframe tbody tr th {\n",
       "        vertical-align: top;\n",
       "    }\n",
       "</style>\n",
       "<table border=\"1\" class=\"dataframe\">\n",
       "  <thead>\n",
       "    <tr style=\"text-align: right;\">\n",
       "      <th></th>\n",
       "      <th>id</th>\n",
       "      <th>text</th>\n",
       "      <th>author</th>\n",
       "      <th>author_num</th>\n",
       "    </tr>\n",
       "  </thead>\n",
       "  <tbody>\n",
       "    <tr>\n",
       "      <th>0</th>\n",
       "      <td>id00001</td>\n",
       "      <td>Idris was well content with this resolve of mine.</td>\n",
       "      <td>MWS</td>\n",
       "      <td>2</td>\n",
       "    </tr>\n",
       "    <tr>\n",
       "      <th>1</th>\n",
       "      <td>id00002</td>\n",
       "      <td>I was faint, even fainter than the hateful mod...</td>\n",
       "      <td>HPL</td>\n",
       "      <td>1</td>\n",
       "    </tr>\n",
       "    <tr>\n",
       "      <th>2</th>\n",
       "      <td>id00003</td>\n",
       "      <td>Above all, I burn to know the incidents of you...</td>\n",
       "      <td>EAP</td>\n",
       "      <td>0</td>\n",
       "    </tr>\n",
       "    <tr>\n",
       "      <th>3</th>\n",
       "      <td>id00004</td>\n",
       "      <td>He might see, perhaps, one or two points with ...</td>\n",
       "      <td>EAP</td>\n",
       "      <td>0</td>\n",
       "    </tr>\n",
       "    <tr>\n",
       "      <th>4</th>\n",
       "      <td>id00005</td>\n",
       "      <td>All obeyed the Lord Protector of dying England...</td>\n",
       "      <td>MWS</td>\n",
       "      <td>2</td>\n",
       "    </tr>\n",
       "  </tbody>\n",
       "</table>\n",
       "</div>"
      ],
      "text/plain": [
       "        id                                               text author  \\\n",
       "0  id00001  Idris was well content with this resolve of mine.    MWS   \n",
       "1  id00002  I was faint, even fainter than the hateful mod...    HPL   \n",
       "2  id00003  Above all, I burn to know the incidents of you...    EAP   \n",
       "3  id00004  He might see, perhaps, one or two points with ...    EAP   \n",
       "4  id00005  All obeyed the Lord Protector of dying England...    MWS   \n",
       "\n",
       "   author_num  \n",
       "0           2  \n",
       "1           1  \n",
       "2           0  \n",
       "3           0  \n",
       "4           2  "
      ]
     },
     "execution_count": 131,
     "metadata": {},
     "output_type": "execute_result"
    }
   ],
   "source": [
    "train_df.head()"
   ]
  },
  {
   "cell_type": "code",
   "execution_count": 132,
   "metadata": {
    "collapsed": true
   },
   "outputs": [],
   "source": [
    "X = train_df['text']\n",
    "y = train_df['author_num']\n"
   ]
  },
  {
   "cell_type": "code",
   "execution_count": null,
   "metadata": {
    "collapsed": true
   },
   "outputs": [],
   "source": []
  },
  {
   "cell_type": "code",
   "execution_count": 133,
   "metadata": {
    "collapsed": true
   },
   "outputs": [],
   "source": [
    "from sklearn.model_selection import train_test_split\n",
    "X_train, X_test, y_train, y_test = train_test_split(X, y, test_size = 0.2, random_state=0)\n"
   ]
  },
  {
   "cell_type": "code",
   "execution_count": 134,
   "metadata": {},
   "outputs": [
    {
     "name": "stdout",
     "output_type": "stream",
     "text": [
      "0    6352\n",
      "2    4815\n",
      "1    4496\n",
      "Name: author_num, dtype: int64\n",
      "0    1548\n",
      "2    1229\n",
      "1    1139\n",
      "Name: author_num, dtype: int64\n"
     ]
    }
   ],
   "source": [
    "# TO check if the authors are evenly distributed\n",
    "print(y_train.value_counts())\n",
    "print(y_test.value_counts())"
   ]
  },
  {
   "cell_type": "markdown",
   "metadata": {},
   "source": [
    "# CountVectorizer : "
   ]
  },
  {
   "cell_type": "markdown",
   "metadata": {},
   "source": [
    "\n",
    "Countvectorizer gives out the sparse matrix which contains the frequency of each word in respective documents/Data."
   ]
  },
  {
   "cell_type": "code",
   "execution_count": 135,
   "metadata": {
    "collapsed": true
   },
   "outputs": [],
   "source": [
    "from sklearn.feature_extraction.text import CountVectorizer\n",
    "cv = CountVectorizer(stop_words='english')"
   ]
  },
  {
   "cell_type": "code",
   "execution_count": 136,
   "metadata": {
    "collapsed": true
   },
   "outputs": [],
   "source": [
    "X_train_cv = cv.fit_transform(X_train)"
   ]
  },
  {
   "cell_type": "code",
   "execution_count": 137,
   "metadata": {},
   "outputs": [
    {
     "data": {
      "text/plain": [
       "<15663x22724 sparse matrix of type '<class 'numpy.int64'>'\n",
       "\twith 176254 stored elements in Compressed Sparse Row format>"
      ]
     },
     "execution_count": 137,
     "metadata": {},
     "output_type": "execute_result"
    }
   ],
   "source": [
    "X_train_cv\n"
   ]
  },
  {
   "cell_type": "markdown",
   "metadata": {},
   "source": [
    "If you test a countvectorizer with other words than already fitted words than those words will not be taken into consideration\n",
    "i.e\n",
    "While we vectorize the testing set we do not fit & transform it because we want to use the same words(tokens) that we use in the training set.\n",
    "if we fit & tranform it will create the matrix as per the words present in the testing set, hence we will get different set of tokens"
   ]
  },
  {
   "cell_type": "code",
   "execution_count": 138,
   "metadata": {
    "collapsed": true
   },
   "outputs": [],
   "source": [
    "X_test_cv = cv.transform(X_test)"
   ]
  },
  {
   "cell_type": "code",
   "execution_count": 139,
   "metadata": {},
   "outputs": [
    {
     "data": {
      "text/plain": [
       "<3916x22724 sparse matrix of type '<class 'numpy.int64'>'\n",
       "\twith 41990 stored elements in Compressed Sparse Row format>"
      ]
     },
     "execution_count": 139,
     "metadata": {},
     "output_type": "execute_result"
    }
   ],
   "source": [
    "X_test_cv"
   ]
  },
  {
   "cell_type": "markdown",
   "metadata": {},
   "source": [
    "# TF-IDF"
   ]
  },
  {
   "cell_type": "markdown",
   "metadata": {},
   "source": [
    "Occurrence count is a good start but there is an issue: longer documents will have higher average count values than shorter documents, even though they might talk about the same topics. To avoid these potential discrepancies it suffices to divide the number of occurrences of each word in a document by the total number of words in the document: these new features are called tf for Term Frequencies. Another refinement on top of tf is to downscale weights for words that occur in many documents in the corpus and are therefore less informative than those that occur only in a smaller portion of the corpus. This downscaling is called tf–idf for “Term Frequency times Inverse Document Frequency”."
   ]
  },
  {
   "cell_type": "markdown",
   "metadata": {},
   "source": [
    "https://manjunathhiremathm.wixsite.com/portfolio/blog-1/countvectorizer-v-s-tfidfvector"
   ]
  },
  {
   "cell_type": "code",
   "execution_count": 140,
   "metadata": {
    "collapsed": true
   },
   "outputs": [],
   "source": [
    "from sklearn.feature_extraction.text import TfidfVectorizer\n",
    "tfidf = TfidfVectorizer()"
   ]
  },
  {
   "cell_type": "code",
   "execution_count": 141,
   "metadata": {
    "collapsed": true
   },
   "outputs": [],
   "source": [
    "X_train_tfidf = tfidf.fit_transform(X_train)\n",
    "X_test_tfidf = tfidf.transform(X_test)"
   ]
  },
  {
   "cell_type": "code",
   "execution_count": 142,
   "metadata": {},
   "outputs": [
    {
     "data": {
      "text/plain": [
       "<15663x23027 sparse matrix of type '<class 'numpy.float64'>'\n",
       "\twith 343686 stored elements in Compressed Sparse Row format>"
      ]
     },
     "execution_count": 142,
     "metadata": {},
     "output_type": "execute_result"
    }
   ],
   "source": [
    "X_train_tfidf"
   ]
  },
  {
   "cell_type": "code",
   "execution_count": 143,
   "metadata": {},
   "outputs": [
    {
     "data": {
      "text/plain": [
       "<3916x23027 sparse matrix of type '<class 'numpy.float64'>'\n",
       "\twith 83688 stored elements in Compressed Sparse Row format>"
      ]
     },
     "execution_count": 143,
     "metadata": {},
     "output_type": "execute_result"
    }
   ],
   "source": [
    "X_test_tfidf"
   ]
  },
  {
   "cell_type": "markdown",
   "metadata": {},
   "source": [
    "# Using Logistic Regression with CountVectorizer to evaluate the author "
   ]
  },
  {
   "cell_type": "code",
   "execution_count": 144,
   "metadata": {
    "collapsed": true
   },
   "outputs": [],
   "source": [
    "from sklearn.linear_model import LogisticRegression\n",
    "LR = LogisticRegression()\n",
    "LR.fit(X_train_cv, y_train)\n",
    "y_test_pred = LR.predict(X_test_cv)\n",
    "\n"
   ]
  },
  {
   "cell_type": "code",
   "execution_count": 145,
   "metadata": {},
   "outputs": [
    {
     "name": "stdout",
     "output_type": "stream",
     "text": [
      "0.796475995914\n"
     ]
    }
   ],
   "source": [
    "from sklearn import metrics\n",
    "print(metrics.accuracy_score(y_test, y_test_pred))\n"
   ]
  },
  {
   "cell_type": "markdown",
   "metadata": {},
   "source": [
    "Confusion matrix :\n",
    "A confusion matrix is a matrix where we can see where the predicted values are, and where they should be."
   ]
  },
  {
   "cell_type": "code",
   "execution_count": 146,
   "metadata": {},
   "outputs": [
    {
     "data": {
      "text/plain": [
       "array([[1330,   97,  121],\n",
       "       [ 190,  856,   93],\n",
       "       [ 226,   70,  933]])"
      ]
     },
     "execution_count": 146,
     "metadata": {},
     "output_type": "execute_result"
    }
   ],
   "source": [
    "from sklearn.metrics import confusion_matrix\n",
    "cn = confusion_matrix(y_test, y_test_pred)\n",
    "cn"
   ]
  },
  {
   "cell_type": "code",
   "execution_count": 147,
   "metadata": {},
   "outputs": [
    {
     "name": "stdout",
     "output_type": "stream",
     "text": [
      "0.96501308817\n"
     ]
    }
   ],
   "source": [
    "y_train_pred = LR.predict(X_train_cv)\n",
    "print(metrics.accuracy_score(y_train, y_train_pred))\n"
   ]
  },
  {
   "cell_type": "code",
   "execution_count": 148,
   "metadata": {},
   "outputs": [
    {
     "data": {
      "text/plain": [
       "array([[6239,   42,   71],\n",
       "       [ 155, 4312,   29],\n",
       "       [ 211,   40, 4564]])"
      ]
     },
     "execution_count": 148,
     "metadata": {},
     "output_type": "execute_result"
    }
   ],
   "source": [
    "cn = confusion_matrix(y_train, y_train_pred)\n",
    "cn"
   ]
  },
  {
   "cell_type": "markdown",
   "metadata": {},
   "source": [
    " Using Logistic Regression model with the entire dataset from \"train.csv\""
   ]
  },
  {
   "cell_type": "code",
   "execution_count": 149,
   "metadata": {
    "collapsed": true
   },
   "outputs": [],
   "source": [
    "X_cv = cv.fit_transform(X)"
   ]
  },
  {
   "cell_type": "code",
   "execution_count": 150,
   "metadata": {},
   "outputs": [
    {
     "data": {
      "text/plain": [
       "<19579x24764 sparse matrix of type '<class 'numpy.int64'>'\n",
       "\twith 220471 stored elements in Compressed Sparse Row format>"
      ]
     },
     "execution_count": 150,
     "metadata": {},
     "output_type": "execute_result"
    }
   ],
   "source": [
    "X_cv"
   ]
  },
  {
   "cell_type": "code",
   "execution_count": 151,
   "metadata": {},
   "outputs": [
    {
     "data": {
      "text/plain": [
       "0.95990602175800599"
      ]
     },
     "execution_count": 151,
     "metadata": {},
     "output_type": "execute_result"
    }
   ],
   "source": [
    "LR.fit(X_cv,y)\n",
    "ytrain_pred = LR.predict(X_cv)\n",
    "metrics.accuracy_score(y, ytrain_pred)"
   ]
  },
  {
   "cell_type": "code",
   "execution_count": 152,
   "metadata": {},
   "outputs": [
    {
     "data": {
      "text/html": [
       "<div>\n",
       "<style>\n",
       "    .dataframe thead tr:only-child th {\n",
       "        text-align: right;\n",
       "    }\n",
       "\n",
       "    .dataframe thead th {\n",
       "        text-align: left;\n",
       "    }\n",
       "\n",
       "    .dataframe tbody tr th {\n",
       "        vertical-align: top;\n",
       "    }\n",
       "</style>\n",
       "<table border=\"1\" class=\"dataframe\">\n",
       "  <thead>\n",
       "    <tr style=\"text-align: right;\">\n",
       "      <th></th>\n",
       "      <th>id</th>\n",
       "      <th>text</th>\n",
       "    </tr>\n",
       "  </thead>\n",
       "  <tbody>\n",
       "    <tr>\n",
       "      <th>0</th>\n",
       "      <td>id02310</td>\n",
       "      <td>Still, as I urged our leaving Ireland with suc...</td>\n",
       "    </tr>\n",
       "    <tr>\n",
       "      <th>1</th>\n",
       "      <td>id24541</td>\n",
       "      <td>If a fire wanted fanning, it could readily be ...</td>\n",
       "    </tr>\n",
       "    <tr>\n",
       "      <th>2</th>\n",
       "      <td>id00134</td>\n",
       "      <td>And when they had broken down the frail door t...</td>\n",
       "    </tr>\n",
       "    <tr>\n",
       "      <th>3</th>\n",
       "      <td>id27757</td>\n",
       "      <td>While I was thinking how I should possibly man...</td>\n",
       "    </tr>\n",
       "    <tr>\n",
       "      <th>4</th>\n",
       "      <td>id04081</td>\n",
       "      <td>I am not sure to what limit his knowledge may ...</td>\n",
       "    </tr>\n",
       "  </tbody>\n",
       "</table>\n",
       "</div>"
      ],
      "text/plain": [
       "        id                                               text\n",
       "0  id02310  Still, as I urged our leaving Ireland with suc...\n",
       "1  id24541  If a fire wanted fanning, it could readily be ...\n",
       "2  id00134  And when they had broken down the frail door t...\n",
       "3  id27757  While I was thinking how I should possibly man...\n",
       "4  id04081  I am not sure to what limit his knowledge may ..."
      ]
     },
     "execution_count": 152,
     "metadata": {},
     "output_type": "execute_result"
    }
   ],
   "source": [
    "test.head()"
   ]
  },
  {
   "cell_type": "code",
   "execution_count": 153,
   "metadata": {},
   "outputs": [
    {
     "data": {
      "text/plain": [
       "<8392x24764 sparse matrix of type '<class 'numpy.int64'>'\n",
       "\twith 89754 stored elements in Compressed Sparse Row format>"
      ]
     },
     "execution_count": 153,
     "metadata": {},
     "output_type": "execute_result"
    }
   ],
   "source": [
    "test_cv = cv.transform(test['text'])\n",
    "test_cv"
   ]
  },
  {
   "cell_type": "code",
   "execution_count": 154,
   "metadata": {
    "collapsed": true
   },
   "outputs": [],
   "source": [
    "y_pred = LR.predict(test_cv)"
   ]
  },
  {
   "cell_type": "code",
   "execution_count": 155,
   "metadata": {},
   "outputs": [
    {
     "data": {
      "text/plain": [
       "array([2, 0, 1, ..., 0, 2, 1], dtype=int64)"
      ]
     },
     "execution_count": 155,
     "metadata": {},
     "output_type": "execute_result"
    }
   ],
   "source": [
    "y_pred"
   ]
  },
  {
   "cell_type": "code",
   "execution_count": 156,
   "metadata": {},
   "outputs": [
    {
     "data": {
      "text/plain": [
       "array([[  1.93960567e-01,   3.76668417e-02,   7.68372591e-01],\n",
       "       [  8.96907049e-01,   1.01043540e-01,   2.04941158e-03],\n",
       "       [  4.65987896e-01,   5.19089147e-01,   1.49229565e-02],\n",
       "       ..., \n",
       "       [  8.77196049e-01,   5.15178609e-02,   7.12860900e-02],\n",
       "       [  1.53181466e-01,   5.25602785e-03,   8.41562506e-01],\n",
       "       [  3.11033457e-01,   6.88454376e-01,   5.12167196e-04]])"
      ]
     },
     "execution_count": 156,
     "metadata": {},
     "output_type": "execute_result"
    }
   ],
   "source": [
    "y_pred_prob = LR.predict_proba(test_cv)\n",
    "y_pred_prob"
   ]
  },
  {
   "cell_type": "code",
   "execution_count": 157,
   "metadata": {},
   "outputs": [
    {
     "data": {
      "text/html": [
       "<div>\n",
       "<style>\n",
       "    .dataframe thead tr:only-child th {\n",
       "        text-align: right;\n",
       "    }\n",
       "\n",
       "    .dataframe thead th {\n",
       "        text-align: left;\n",
       "    }\n",
       "\n",
       "    .dataframe tbody tr th {\n",
       "        vertical-align: top;\n",
       "    }\n",
       "</style>\n",
       "<table border=\"1\" class=\"dataframe\">\n",
       "  <thead>\n",
       "    <tr style=\"text-align: right;\">\n",
       "      <th></th>\n",
       "      <th>id</th>\n",
       "      <th>text</th>\n",
       "      <th>Predicted</th>\n",
       "      <th>EAP_Prob</th>\n",
       "      <th>HPL_Prob</th>\n",
       "      <th>MWS_Prob</th>\n",
       "    </tr>\n",
       "  </thead>\n",
       "  <tbody>\n",
       "    <tr>\n",
       "      <th>0</th>\n",
       "      <td>id02310</td>\n",
       "      <td>Still, as I urged our leaving Ireland with suc...</td>\n",
       "      <td>2</td>\n",
       "      <td>0.193961</td>\n",
       "      <td>0.037667</td>\n",
       "      <td>0.768373</td>\n",
       "    </tr>\n",
       "    <tr>\n",
       "      <th>1</th>\n",
       "      <td>id24541</td>\n",
       "      <td>If a fire wanted fanning, it could readily be ...</td>\n",
       "      <td>0</td>\n",
       "      <td>0.896907</td>\n",
       "      <td>0.101044</td>\n",
       "      <td>0.002049</td>\n",
       "    </tr>\n",
       "    <tr>\n",
       "      <th>2</th>\n",
       "      <td>id00134</td>\n",
       "      <td>And when they had broken down the frail door t...</td>\n",
       "      <td>1</td>\n",
       "      <td>0.465988</td>\n",
       "      <td>0.519089</td>\n",
       "      <td>0.014923</td>\n",
       "    </tr>\n",
       "    <tr>\n",
       "      <th>3</th>\n",
       "      <td>id27757</td>\n",
       "      <td>While I was thinking how I should possibly man...</td>\n",
       "      <td>0</td>\n",
       "      <td>0.826527</td>\n",
       "      <td>0.167050</td>\n",
       "      <td>0.006423</td>\n",
       "    </tr>\n",
       "    <tr>\n",
       "      <th>4</th>\n",
       "      <td>id04081</td>\n",
       "      <td>I am not sure to what limit his knowledge may ...</td>\n",
       "      <td>0</td>\n",
       "      <td>0.852302</td>\n",
       "      <td>0.082401</td>\n",
       "      <td>0.065296</td>\n",
       "    </tr>\n",
       "  </tbody>\n",
       "</table>\n",
       "</div>"
      ],
      "text/plain": [
       "        id                                               text  Predicted  \\\n",
       "0  id02310  Still, as I urged our leaving Ireland with suc...          2   \n",
       "1  id24541  If a fire wanted fanning, it could readily be ...          0   \n",
       "2  id00134  And when they had broken down the frail door t...          1   \n",
       "3  id27757  While I was thinking how I should possibly man...          0   \n",
       "4  id04081  I am not sure to what limit his knowledge may ...          0   \n",
       "\n",
       "   EAP_Prob  HPL_Prob  MWS_Prob  \n",
       "0  0.193961  0.037667  0.768373  \n",
       "1  0.896907  0.101044  0.002049  \n",
       "2  0.465988  0.519089  0.014923  \n",
       "3  0.826527  0.167050  0.006423  \n",
       "4  0.852302  0.082401  0.065296  "
      ]
     },
     "execution_count": 157,
     "metadata": {},
     "output_type": "execute_result"
    }
   ],
   "source": [
    "result_LR_cv = pd.DataFrame(y_pred_prob, columns=['EAP_Prob','HPL_Prob','MWS_Prob'])\n",
    "result_LR_cv.insert(0, 'id', test['id'])\n",
    "result_LR_cv.insert(1, 'text', test['text'])\n",
    "result_LR_cv.insert(2, 'Predicted',y_pred)\n",
    "result_LR_cv.head()"
   ]
  },
  {
   "cell_type": "code",
   "execution_count": 158,
   "metadata": {
    "collapsed": true
   },
   "outputs": [],
   "source": [
    "result_LR_cv['Predicted_Author'] = result_LR_cv.Predicted.map({0:'EAP', 1:'HPL', 2:'MWS'})"
   ]
  },
  {
   "cell_type": "code",
   "execution_count": 159,
   "metadata": {},
   "outputs": [
    {
     "data": {
      "text/html": [
       "<div>\n",
       "<style>\n",
       "    .dataframe thead tr:only-child th {\n",
       "        text-align: right;\n",
       "    }\n",
       "\n",
       "    .dataframe thead th {\n",
       "        text-align: left;\n",
       "    }\n",
       "\n",
       "    .dataframe tbody tr th {\n",
       "        vertical-align: top;\n",
       "    }\n",
       "</style>\n",
       "<table border=\"1\" class=\"dataframe\">\n",
       "  <thead>\n",
       "    <tr style=\"text-align: right;\">\n",
       "      <th></th>\n",
       "      <th>id</th>\n",
       "      <th>text</th>\n",
       "      <th>Predicted</th>\n",
       "      <th>EAP_Prob</th>\n",
       "      <th>HPL_Prob</th>\n",
       "      <th>MWS_Prob</th>\n",
       "      <th>Predicted_Author</th>\n",
       "    </tr>\n",
       "  </thead>\n",
       "  <tbody>\n",
       "    <tr>\n",
       "      <th>0</th>\n",
       "      <td>id02310</td>\n",
       "      <td>Still, as I urged our leaving Ireland with suc...</td>\n",
       "      <td>2</td>\n",
       "      <td>0.193961</td>\n",
       "      <td>0.037667</td>\n",
       "      <td>0.768373</td>\n",
       "      <td>MWS</td>\n",
       "    </tr>\n",
       "    <tr>\n",
       "      <th>1</th>\n",
       "      <td>id24541</td>\n",
       "      <td>If a fire wanted fanning, it could readily be ...</td>\n",
       "      <td>0</td>\n",
       "      <td>0.896907</td>\n",
       "      <td>0.101044</td>\n",
       "      <td>0.002049</td>\n",
       "      <td>EAP</td>\n",
       "    </tr>\n",
       "    <tr>\n",
       "      <th>2</th>\n",
       "      <td>id00134</td>\n",
       "      <td>And when they had broken down the frail door t...</td>\n",
       "      <td>1</td>\n",
       "      <td>0.465988</td>\n",
       "      <td>0.519089</td>\n",
       "      <td>0.014923</td>\n",
       "      <td>HPL</td>\n",
       "    </tr>\n",
       "    <tr>\n",
       "      <th>3</th>\n",
       "      <td>id27757</td>\n",
       "      <td>While I was thinking how I should possibly man...</td>\n",
       "      <td>0</td>\n",
       "      <td>0.826527</td>\n",
       "      <td>0.167050</td>\n",
       "      <td>0.006423</td>\n",
       "      <td>EAP</td>\n",
       "    </tr>\n",
       "    <tr>\n",
       "      <th>4</th>\n",
       "      <td>id04081</td>\n",
       "      <td>I am not sure to what limit his knowledge may ...</td>\n",
       "      <td>0</td>\n",
       "      <td>0.852302</td>\n",
       "      <td>0.082401</td>\n",
       "      <td>0.065296</td>\n",
       "      <td>EAP</td>\n",
       "    </tr>\n",
       "  </tbody>\n",
       "</table>\n",
       "</div>"
      ],
      "text/plain": [
       "        id                                               text  Predicted  \\\n",
       "0  id02310  Still, as I urged our leaving Ireland with suc...          2   \n",
       "1  id24541  If a fire wanted fanning, it could readily be ...          0   \n",
       "2  id00134  And when they had broken down the frail door t...          1   \n",
       "3  id27757  While I was thinking how I should possibly man...          0   \n",
       "4  id04081  I am not sure to what limit his knowledge may ...          0   \n",
       "\n",
       "   EAP_Prob  HPL_Prob  MWS_Prob Predicted_Author  \n",
       "0  0.193961  0.037667  0.768373              MWS  \n",
       "1  0.896907  0.101044  0.002049              EAP  \n",
       "2  0.465988  0.519089  0.014923              HPL  \n",
       "3  0.826527  0.167050  0.006423              EAP  \n",
       "4  0.852302  0.082401  0.065296              EAP  "
      ]
     },
     "execution_count": 159,
     "metadata": {},
     "output_type": "execute_result"
    }
   ],
   "source": [
    "result_LR_cv.head()"
   ]
  },
  {
   "cell_type": "code",
   "execution_count": 160,
   "metadata": {
    "collapsed": true
   },
   "outputs": [],
   "source": [
    "from pandas import ExcelWriter\n",
    "\n",
    "writer = ExcelWriter('Predicted Author.xlsx' , engine='xlsxwriter')\n",
    "result_LR_cv.to_excel(writer,sheet_name='LogisticRegression_CountVec',index=False,  columns=['id','text', 'Predicted_Author','EAP_Prob','HPL_Prob',\n",
    "'MWS_Prob'])\n"
   ]
  },
  {
   "cell_type": "markdown",
   "metadata": {},
   "source": [
    "# Using Logistic Regression with Tf-idfVectorizer to evaluate the author\n"
   ]
  },
  {
   "cell_type": "code",
   "execution_count": 161,
   "metadata": {
    "collapsed": true
   },
   "outputs": [],
   "source": [
    "LR = LogisticRegression()\n",
    "LR.fit(X_train_tfidf, y_train)\n",
    "y_test_tfidf = LR.predict(X_test_tfidf)"
   ]
  },
  {
   "cell_type": "code",
   "execution_count": 162,
   "metadata": {},
   "outputs": [
    {
     "name": "stdout",
     "output_type": "stream",
     "text": [
      "0.808478038815\n"
     ]
    }
   ],
   "source": [
    "from sklearn import metrics\n",
    "print(metrics.accuracy_score(y_test, y_test_tfidf))"
   ]
  },
  {
   "cell_type": "code",
   "execution_count": 163,
   "metadata": {},
   "outputs": [
    {
     "data": {
      "text/plain": [
       "array([[1317,  108,  123],\n",
       "       [ 188,  879,   72],\n",
       "       [ 196,   63,  970]])"
      ]
     },
     "execution_count": 163,
     "metadata": {},
     "output_type": "execute_result"
    }
   ],
   "source": [
    "cn = confusion_matrix(y_test, y_test_tfidf)\n",
    "cn"
   ]
  },
  {
   "cell_type": "code",
   "execution_count": 164,
   "metadata": {},
   "outputs": [
    {
     "name": "stdout",
     "output_type": "stream",
     "text": [
      "0.896060780183\n"
     ]
    }
   ],
   "source": [
    "y_train_tfidf = LR.predict(X_train_tfidf)\n",
    "print(metrics.accuracy_score(y_train, y_train_tfidf))"
   ]
  },
  {
   "cell_type": "code",
   "execution_count": 165,
   "metadata": {},
   "outputs": [
    {
     "data": {
      "text/plain": [
       "array([[5874,  203,  275],\n",
       "       [ 412, 3965,  119],\n",
       "       [ 458,  161, 4196]])"
      ]
     },
     "execution_count": 165,
     "metadata": {},
     "output_type": "execute_result"
    }
   ],
   "source": [
    "cn = confusion_matrix(y_train, y_train_tfidf)\n",
    "cn"
   ]
  },
  {
   "cell_type": "code",
   "execution_count": 166,
   "metadata": {},
   "outputs": [
    {
     "data": {
      "text/plain": [
       "<19579x25068 sparse matrix of type '<class 'numpy.float64'>'\n",
       "\twith 429602 stored elements in Compressed Sparse Row format>"
      ]
     },
     "execution_count": 166,
     "metadata": {},
     "output_type": "execute_result"
    }
   ],
   "source": [
    "X_tfidf = tfidf.fit_transform(X)\n",
    "X_tfidf"
   ]
  },
  {
   "cell_type": "code",
   "execution_count": 167,
   "metadata": {},
   "outputs": [
    {
     "data": {
      "text/plain": [
       "0.89463200367740947"
      ]
     },
     "execution_count": 167,
     "metadata": {},
     "output_type": "execute_result"
    }
   ],
   "source": [
    "LR.fit(X_tfidf,y)\n",
    "y_tfidf = LR.predict(X_tfidf)\n",
    "metrics.accuracy_score(y, y_tfidf)"
   ]
  },
  {
   "cell_type": "code",
   "execution_count": 168,
   "metadata": {},
   "outputs": [
    {
     "data": {
      "text/plain": [
       "array([[7277,  273,  350],\n",
       "       [ 502, 4970,  163],\n",
       "       [ 581,  194, 5269]])"
      ]
     },
     "execution_count": 168,
     "metadata": {},
     "output_type": "execute_result"
    }
   ],
   "source": [
    "cn = confusion_matrix(y, y_tfidf)\n",
    "cn"
   ]
  },
  {
   "cell_type": "code",
   "execution_count": 169,
   "metadata": {},
   "outputs": [
    {
     "data": {
      "text/plain": [
       "<8392x25068 sparse matrix of type '<class 'numpy.float64'>'\n",
       "\twith 179102 stored elements in Compressed Sparse Row format>"
      ]
     },
     "execution_count": 169,
     "metadata": {},
     "output_type": "execute_result"
    }
   ],
   "source": [
    "test_tfidf = tfidf.transform(test['text'])\n",
    "test_tfidf"
   ]
  },
  {
   "cell_type": "code",
   "execution_count": 170,
   "metadata": {},
   "outputs": [
    {
     "data": {
      "text/plain": [
       "array([2, 0, 1, ..., 0, 2, 1], dtype=int64)"
      ]
     },
     "execution_count": 170,
     "metadata": {},
     "output_type": "execute_result"
    }
   ],
   "source": [
    "y_tfidf = LR.predict(test_tfidf)\n",
    "y_tfidf"
   ]
  },
  {
   "cell_type": "code",
   "execution_count": 171,
   "metadata": {},
   "outputs": [
    {
     "data": {
      "text/plain": [
       "array([[ 0.3130204 ,  0.08230496,  0.60467464],\n",
       "       [ 0.73856701,  0.22417631,  0.03725668],\n",
       "       [ 0.15833314,  0.74413392,  0.09753295],\n",
       "       ..., \n",
       "       [ 0.71202586,  0.14799617,  0.13997797],\n",
       "       [ 0.33760937,  0.07294748,  0.58944315],\n",
       "       [ 0.42534208,  0.54815869,  0.02649923]])"
      ]
     },
     "execution_count": 171,
     "metadata": {},
     "output_type": "execute_result"
    }
   ],
   "source": [
    "y_tfidf_prob = LR.predict_proba(test_tfidf)\n",
    "y_tfidf_prob"
   ]
  },
  {
   "cell_type": "code",
   "execution_count": 172,
   "metadata": {},
   "outputs": [
    {
     "data": {
      "text/html": [
       "<div>\n",
       "<style>\n",
       "    .dataframe thead tr:only-child th {\n",
       "        text-align: right;\n",
       "    }\n",
       "\n",
       "    .dataframe thead th {\n",
       "        text-align: left;\n",
       "    }\n",
       "\n",
       "    .dataframe tbody tr th {\n",
       "        vertical-align: top;\n",
       "    }\n",
       "</style>\n",
       "<table border=\"1\" class=\"dataframe\">\n",
       "  <thead>\n",
       "    <tr style=\"text-align: right;\">\n",
       "      <th></th>\n",
       "      <th>id</th>\n",
       "      <th>text</th>\n",
       "      <th>Predicted</th>\n",
       "      <th>EAP_Prob</th>\n",
       "      <th>HPL_Prob</th>\n",
       "      <th>MWS_Prob</th>\n",
       "      <th>Predicted_Author</th>\n",
       "    </tr>\n",
       "  </thead>\n",
       "  <tbody>\n",
       "    <tr>\n",
       "      <th>0</th>\n",
       "      <td>id02310</td>\n",
       "      <td>Still, as I urged our leaving Ireland with suc...</td>\n",
       "      <td>2</td>\n",
       "      <td>0.313020</td>\n",
       "      <td>0.082305</td>\n",
       "      <td>0.604675</td>\n",
       "      <td>MWS</td>\n",
       "    </tr>\n",
       "    <tr>\n",
       "      <th>1</th>\n",
       "      <td>id24541</td>\n",
       "      <td>If a fire wanted fanning, it could readily be ...</td>\n",
       "      <td>0</td>\n",
       "      <td>0.738567</td>\n",
       "      <td>0.224176</td>\n",
       "      <td>0.037257</td>\n",
       "      <td>EAP</td>\n",
       "    </tr>\n",
       "    <tr>\n",
       "      <th>2</th>\n",
       "      <td>id00134</td>\n",
       "      <td>And when they had broken down the frail door t...</td>\n",
       "      <td>1</td>\n",
       "      <td>0.158333</td>\n",
       "      <td>0.744134</td>\n",
       "      <td>0.097533</td>\n",
       "      <td>HPL</td>\n",
       "    </tr>\n",
       "    <tr>\n",
       "      <th>3</th>\n",
       "      <td>id27757</td>\n",
       "      <td>While I was thinking how I should possibly man...</td>\n",
       "      <td>0</td>\n",
       "      <td>0.596801</td>\n",
       "      <td>0.298593</td>\n",
       "      <td>0.104606</td>\n",
       "      <td>EAP</td>\n",
       "    </tr>\n",
       "    <tr>\n",
       "      <th>4</th>\n",
       "      <td>id04081</td>\n",
       "      <td>I am not sure to what limit his knowledge may ...</td>\n",
       "      <td>0</td>\n",
       "      <td>0.550307</td>\n",
       "      <td>0.132234</td>\n",
       "      <td>0.317460</td>\n",
       "      <td>EAP</td>\n",
       "    </tr>\n",
       "  </tbody>\n",
       "</table>\n",
       "</div>"
      ],
      "text/plain": [
       "        id                                               text  Predicted  \\\n",
       "0  id02310  Still, as I urged our leaving Ireland with suc...          2   \n",
       "1  id24541  If a fire wanted fanning, it could readily be ...          0   \n",
       "2  id00134  And when they had broken down the frail door t...          1   \n",
       "3  id27757  While I was thinking how I should possibly man...          0   \n",
       "4  id04081  I am not sure to what limit his knowledge may ...          0   \n",
       "\n",
       "   EAP_Prob  HPL_Prob  MWS_Prob Predicted_Author  \n",
       "0  0.313020  0.082305  0.604675              MWS  \n",
       "1  0.738567  0.224176  0.037257              EAP  \n",
       "2  0.158333  0.744134  0.097533              HPL  \n",
       "3  0.596801  0.298593  0.104606              EAP  \n",
       "4  0.550307  0.132234  0.317460              EAP  "
      ]
     },
     "execution_count": 172,
     "metadata": {},
     "output_type": "execute_result"
    }
   ],
   "source": [
    "result_tfidf = pd.DataFrame(y_tfidf_prob, columns=['EAP_Prob','HPL_Prob','MWS_Prob'])\n",
    "result_tfidf.insert(0, 'id', test['id'])\n",
    "result_tfidf.insert(1, 'text', test['text'])\n",
    "result_tfidf.insert(2, 'Predicted',y_tfidf)\n",
    "result_tfidf['Predicted_Author'] = result_tfidf.Predicted.map({0:'EAP', 1:'HPL', 2:'MWS'})\n",
    "result_tfidf.head()"
   ]
  },
  {
   "cell_type": "code",
   "execution_count": 173,
   "metadata": {
    "collapsed": true
   },
   "outputs": [],
   "source": [
    "result_tfidf.to_excel(writer,sheet_name='LogisticRegression_Tfidf',index=False,  columns=['id','text', 'Predicted_Author','EAP_Prob','HPL_Prob',\n",
    "'MWS_Prob'])\n"
   ]
  },
  {
   "cell_type": "markdown",
   "metadata": {},
   "source": []
  },
  {
   "cell_type": "markdown",
   "metadata": {},
   "source": [
    "# Using Naive Bayes with CountVecterizer to evaluate the author"
   ]
  },
  {
   "cell_type": "code",
   "execution_count": 174,
   "metadata": {},
   "outputs": [
    {
     "data": {
      "text/plain": [
       "MultinomialNB(alpha=1.0, class_prior=None, fit_prior=True)"
      ]
     },
     "execution_count": 174,
     "metadata": {},
     "output_type": "execute_result"
    }
   ],
   "source": [
    "from sklearn.naive_bayes import MultinomialNB\n",
    "\n",
    "NB_cv = MultinomialNB()\n",
    "\n",
    "NB_cv.fit(X_train_cv, y_train)\n"
   ]
  },
  {
   "cell_type": "code",
   "execution_count": 175,
   "metadata": {},
   "outputs": [
    {
     "name": "stdout",
     "output_type": "stream",
     "text": [
      "0.826864147089\n"
     ]
    }
   ],
   "source": [
    "y_nb_cv = NB_cv.predict(X_test_cv)\n",
    "print(metrics.accuracy_score(y_test, y_nb_cv))"
   ]
  },
  {
   "cell_type": "code",
   "execution_count": 176,
   "metadata": {},
   "outputs": [
    {
     "name": "stdout",
     "output_type": "stream",
     "text": [
      "0.913873459746\n"
     ]
    }
   ],
   "source": [
    "y_nb_cv = NB_cv.predict(X_train_cv)\n",
    "print(metrics.accuracy_score(y_train, y_nb_cv))"
   ]
  },
  {
   "cell_type": "code",
   "execution_count": 177,
   "metadata": {},
   "outputs": [
    {
     "data": {
      "text/plain": [
       "<19579x24764 sparse matrix of type '<class 'numpy.int64'>'\n",
       "\twith 220471 stored elements in Compressed Sparse Row format>"
      ]
     },
     "execution_count": 177,
     "metadata": {},
     "output_type": "execute_result"
    }
   ],
   "source": [
    "X_cv = cv.fit_transform(X)\n",
    "X_cv"
   ]
  },
  {
   "cell_type": "code",
   "execution_count": 178,
   "metadata": {},
   "outputs": [
    {
     "data": {
      "text/plain": [
       "0.90954594208080086"
      ]
     },
     "execution_count": 178,
     "metadata": {},
     "output_type": "execute_result"
    }
   ],
   "source": [
    "NB_cv.fit(X_cv,y)\n",
    "ytrain_nb_cv = NB_cv.predict(X_cv)\n",
    "metrics.accuracy_score(y, ytrain_nb_cv)\n"
   ]
  },
  {
   "cell_type": "code",
   "execution_count": 179,
   "metadata": {},
   "outputs": [
    {
     "data": {
      "text/plain": [
       "<8392x24764 sparse matrix of type '<class 'numpy.int64'>'\n",
       "\twith 89754 stored elements in Compressed Sparse Row format>"
      ]
     },
     "execution_count": 179,
     "metadata": {},
     "output_type": "execute_result"
    }
   ],
   "source": [
    "test_cv = cv.transform(test['text'])\n",
    "test_cv"
   ]
  },
  {
   "cell_type": "code",
   "execution_count": 180,
   "metadata": {},
   "outputs": [
    {
     "data": {
      "text/plain": [
       "array([2, 0, 1, ..., 0, 2, 1], dtype=int64)"
      ]
     },
     "execution_count": 180,
     "metadata": {},
     "output_type": "execute_result"
    }
   ],
   "source": [
    "y_pred_nb_cv = NB_cv.predict(test_cv)\n",
    "y_pred_nb_cv"
   ]
  },
  {
   "cell_type": "code",
   "execution_count": 181,
   "metadata": {},
   "outputs": [
    {
     "data": {
      "text/plain": [
       "array([[  4.91839929e-03,   6.40983449e-04,   9.94440617e-01],\n",
       "       [  9.99982266e-01,   1.61780083e-05,   1.55598619e-06],\n",
       "       [  1.79221196e-01,   8.20713638e-01,   6.51662936e-05],\n",
       "       ..., \n",
       "       [  9.98966935e-01,   4.08813374e-04,   6.24251183e-04],\n",
       "       [  6.72288296e-04,   6.55477093e-06,   9.99321157e-01],\n",
       "       [  4.77459465e-03,   9.95224048e-01,   1.35734239e-06]])"
      ]
     },
     "execution_count": 181,
     "metadata": {},
     "output_type": "execute_result"
    }
   ],
   "source": [
    "y_pred_prob_nb_cv = NB_cv.predict_proba(test_cv)\n",
    "y_pred_prob_nb_cv"
   ]
  },
  {
   "cell_type": "code",
   "execution_count": 182,
   "metadata": {},
   "outputs": [
    {
     "data": {
      "text/html": [
       "<div>\n",
       "<style>\n",
       "    .dataframe thead tr:only-child th {\n",
       "        text-align: right;\n",
       "    }\n",
       "\n",
       "    .dataframe thead th {\n",
       "        text-align: left;\n",
       "    }\n",
       "\n",
       "    .dataframe tbody tr th {\n",
       "        vertical-align: top;\n",
       "    }\n",
       "</style>\n",
       "<table border=\"1\" class=\"dataframe\">\n",
       "  <thead>\n",
       "    <tr style=\"text-align: right;\">\n",
       "      <th></th>\n",
       "      <th>id</th>\n",
       "      <th>text</th>\n",
       "      <th>Predicted</th>\n",
       "      <th>EAP_Prob</th>\n",
       "      <th>HPL_Prob</th>\n",
       "      <th>MWS_Prob</th>\n",
       "    </tr>\n",
       "  </thead>\n",
       "  <tbody>\n",
       "    <tr>\n",
       "      <th>0</th>\n",
       "      <td>id02310</td>\n",
       "      <td>Still, as I urged our leaving Ireland with suc...</td>\n",
       "      <td>2</td>\n",
       "      <td>0.004918</td>\n",
       "      <td>0.000641</td>\n",
       "      <td>0.994441</td>\n",
       "    </tr>\n",
       "    <tr>\n",
       "      <th>1</th>\n",
       "      <td>id24541</td>\n",
       "      <td>If a fire wanted fanning, it could readily be ...</td>\n",
       "      <td>0</td>\n",
       "      <td>0.999982</td>\n",
       "      <td>0.000016</td>\n",
       "      <td>0.000002</td>\n",
       "    </tr>\n",
       "    <tr>\n",
       "      <th>2</th>\n",
       "      <td>id00134</td>\n",
       "      <td>And when they had broken down the frail door t...</td>\n",
       "      <td>1</td>\n",
       "      <td>0.179221</td>\n",
       "      <td>0.820714</td>\n",
       "      <td>0.000065</td>\n",
       "    </tr>\n",
       "    <tr>\n",
       "      <th>3</th>\n",
       "      <td>id27757</td>\n",
       "      <td>While I was thinking how I should possibly man...</td>\n",
       "      <td>1</td>\n",
       "      <td>0.449629</td>\n",
       "      <td>0.550370</td>\n",
       "      <td>0.000001</td>\n",
       "    </tr>\n",
       "    <tr>\n",
       "      <th>4</th>\n",
       "      <td>id04081</td>\n",
       "      <td>I am not sure to what limit his knowledge may ...</td>\n",
       "      <td>0</td>\n",
       "      <td>0.970497</td>\n",
       "      <td>0.022190</td>\n",
       "      <td>0.007314</td>\n",
       "    </tr>\n",
       "  </tbody>\n",
       "</table>\n",
       "</div>"
      ],
      "text/plain": [
       "        id                                               text  Predicted  \\\n",
       "0  id02310  Still, as I urged our leaving Ireland with suc...          2   \n",
       "1  id24541  If a fire wanted fanning, it could readily be ...          0   \n",
       "2  id00134  And when they had broken down the frail door t...          1   \n",
       "3  id27757  While I was thinking how I should possibly man...          1   \n",
       "4  id04081  I am not sure to what limit his knowledge may ...          0   \n",
       "\n",
       "   EAP_Prob  HPL_Prob  MWS_Prob  \n",
       "0  0.004918  0.000641  0.994441  \n",
       "1  0.999982  0.000016  0.000002  \n",
       "2  0.179221  0.820714  0.000065  \n",
       "3  0.449629  0.550370  0.000001  \n",
       "4  0.970497  0.022190  0.007314  "
      ]
     },
     "execution_count": 182,
     "metadata": {},
     "output_type": "execute_result"
    }
   ],
   "source": [
    "result = pd.DataFrame(y_pred_prob_nb_cv, columns=['EAP_Prob','HPL_Prob','MWS_Prob'])\n",
    "result.insert(0, 'id', test['id'])\n",
    "result.insert(1, 'text', test['text'])\n",
    "result.insert(2, 'Predicted',y_pred_nb_cv)\n",
    "result.head()\n"
   ]
  },
  {
   "cell_type": "code",
   "execution_count": 183,
   "metadata": {},
   "outputs": [
    {
     "data": {
      "text/html": [
       "<div>\n",
       "<style>\n",
       "    .dataframe thead tr:only-child th {\n",
       "        text-align: right;\n",
       "    }\n",
       "\n",
       "    .dataframe thead th {\n",
       "        text-align: left;\n",
       "    }\n",
       "\n",
       "    .dataframe tbody tr th {\n",
       "        vertical-align: top;\n",
       "    }\n",
       "</style>\n",
       "<table border=\"1\" class=\"dataframe\">\n",
       "  <thead>\n",
       "    <tr style=\"text-align: right;\">\n",
       "      <th></th>\n",
       "      <th>id</th>\n",
       "      <th>text</th>\n",
       "      <th>Predicted</th>\n",
       "      <th>EAP_Prob</th>\n",
       "      <th>HPL_Prob</th>\n",
       "      <th>MWS_Prob</th>\n",
       "      <th>Predicted_Author</th>\n",
       "    </tr>\n",
       "  </thead>\n",
       "  <tbody>\n",
       "    <tr>\n",
       "      <th>0</th>\n",
       "      <td>id02310</td>\n",
       "      <td>Still, as I urged our leaving Ireland with suc...</td>\n",
       "      <td>2</td>\n",
       "      <td>0.004918</td>\n",
       "      <td>0.000641</td>\n",
       "      <td>0.994441</td>\n",
       "      <td>MWS</td>\n",
       "    </tr>\n",
       "    <tr>\n",
       "      <th>1</th>\n",
       "      <td>id24541</td>\n",
       "      <td>If a fire wanted fanning, it could readily be ...</td>\n",
       "      <td>0</td>\n",
       "      <td>0.999982</td>\n",
       "      <td>0.000016</td>\n",
       "      <td>0.000002</td>\n",
       "      <td>EAP</td>\n",
       "    </tr>\n",
       "    <tr>\n",
       "      <th>2</th>\n",
       "      <td>id00134</td>\n",
       "      <td>And when they had broken down the frail door t...</td>\n",
       "      <td>1</td>\n",
       "      <td>0.179221</td>\n",
       "      <td>0.820714</td>\n",
       "      <td>0.000065</td>\n",
       "      <td>HPL</td>\n",
       "    </tr>\n",
       "    <tr>\n",
       "      <th>3</th>\n",
       "      <td>id27757</td>\n",
       "      <td>While I was thinking how I should possibly man...</td>\n",
       "      <td>1</td>\n",
       "      <td>0.449629</td>\n",
       "      <td>0.550370</td>\n",
       "      <td>0.000001</td>\n",
       "      <td>HPL</td>\n",
       "    </tr>\n",
       "    <tr>\n",
       "      <th>4</th>\n",
       "      <td>id04081</td>\n",
       "      <td>I am not sure to what limit his knowledge may ...</td>\n",
       "      <td>0</td>\n",
       "      <td>0.970497</td>\n",
       "      <td>0.022190</td>\n",
       "      <td>0.007314</td>\n",
       "      <td>EAP</td>\n",
       "    </tr>\n",
       "  </tbody>\n",
       "</table>\n",
       "</div>"
      ],
      "text/plain": [
       "        id                                               text  Predicted  \\\n",
       "0  id02310  Still, as I urged our leaving Ireland with suc...          2   \n",
       "1  id24541  If a fire wanted fanning, it could readily be ...          0   \n",
       "2  id00134  And when they had broken down the frail door t...          1   \n",
       "3  id27757  While I was thinking how I should possibly man...          1   \n",
       "4  id04081  I am not sure to what limit his knowledge may ...          0   \n",
       "\n",
       "   EAP_Prob  HPL_Prob  MWS_Prob Predicted_Author  \n",
       "0  0.004918  0.000641  0.994441              MWS  \n",
       "1  0.999982  0.000016  0.000002              EAP  \n",
       "2  0.179221  0.820714  0.000065              HPL  \n",
       "3  0.449629  0.550370  0.000001              HPL  \n",
       "4  0.970497  0.022190  0.007314              EAP  "
      ]
     },
     "execution_count": 183,
     "metadata": {},
     "output_type": "execute_result"
    }
   ],
   "source": [
    "result['Predicted_Author'] = result.Predicted.map({0:'EAP', 1:'HPL', 2:'MWS'})\n",
    "result.head()"
   ]
  },
  {
   "cell_type": "code",
   "execution_count": 184,
   "metadata": {
    "collapsed": true
   },
   "outputs": [],
   "source": [
    "result.to_excel(writer,sheet_name='NavieBayes_CountVec',index=False,  columns=['id','text', 'Predicted_Author','EAP_Prob','HPL_Prob',\n",
    "'MWS_Prob'])\n"
   ]
  },
  {
   "cell_type": "markdown",
   "metadata": {},
   "source": [
    "# Using Naive Bayes with tf-idf to evaluate the author"
   ]
  },
  {
   "cell_type": "code",
   "execution_count": 185,
   "metadata": {
    "collapsed": true
   },
   "outputs": [],
   "source": [
    "NB_tfidf = MultinomialNB()\n",
    "NB_tfidf.fit(X_train_tfidf, y_train)\n",
    "y_test_tfidf = NB_tfidf.predict(X_test_tfidf)"
   ]
  },
  {
   "cell_type": "code",
   "execution_count": 186,
   "metadata": {},
   "outputs": [
    {
     "name": "stdout",
     "output_type": "stream",
     "text": [
      "0.811287027579\n"
     ]
    }
   ],
   "source": [
    "print(metrics.accuracy_score(y_test, y_test_tfidf))"
   ]
  },
  {
   "cell_type": "code",
   "execution_count": 187,
   "metadata": {},
   "outputs": [
    {
     "name": "stdout",
     "output_type": "stream",
     "text": [
      "0.900338377067\n"
     ]
    }
   ],
   "source": [
    "y_train_NB_TFIDF = NB_tfidf.predict(X_train_tfidf)\n",
    "print(metrics.accuracy_score(y_train, y_train_NB_TFIDF))"
   ]
  },
  {
   "cell_type": "code",
   "execution_count": 188,
   "metadata": {},
   "outputs": [
    {
     "data": {
      "text/plain": [
       "<19579x25068 sparse matrix of type '<class 'numpy.float64'>'\n",
       "\twith 429602 stored elements in Compressed Sparse Row format>"
      ]
     },
     "execution_count": 188,
     "metadata": {},
     "output_type": "execute_result"
    }
   ],
   "source": [
    "X_tfidf = tfidf.fit_transform(X)\n",
    "X_tfidf"
   ]
  },
  {
   "cell_type": "code",
   "execution_count": 189,
   "metadata": {},
   "outputs": [
    {
     "data": {
      "text/plain": [
       "0.90014811788140359"
      ]
     },
     "execution_count": 189,
     "metadata": {},
     "output_type": "execute_result"
    }
   ],
   "source": [
    "NB_tfidf.fit(X_tfidf,y)\n",
    "ytrain_nb_tfidf = NB_tfidf.predict(X_tfidf)\n",
    "metrics.accuracy_score(y, ytrain_nb_tfidf)"
   ]
  },
  {
   "cell_type": "code",
   "execution_count": 190,
   "metadata": {},
   "outputs": [
    {
     "data": {
      "text/html": [
       "<div>\n",
       "<style>\n",
       "    .dataframe thead tr:only-child th {\n",
       "        text-align: right;\n",
       "    }\n",
       "\n",
       "    .dataframe thead th {\n",
       "        text-align: left;\n",
       "    }\n",
       "\n",
       "    .dataframe tbody tr th {\n",
       "        vertical-align: top;\n",
       "    }\n",
       "</style>\n",
       "<table border=\"1\" class=\"dataframe\">\n",
       "  <thead>\n",
       "    <tr style=\"text-align: right;\">\n",
       "      <th></th>\n",
       "      <th>id</th>\n",
       "      <th>text</th>\n",
       "    </tr>\n",
       "  </thead>\n",
       "  <tbody>\n",
       "    <tr>\n",
       "      <th>0</th>\n",
       "      <td>id02310</td>\n",
       "      <td>Still, as I urged our leaving Ireland with suc...</td>\n",
       "    </tr>\n",
       "    <tr>\n",
       "      <th>1</th>\n",
       "      <td>id24541</td>\n",
       "      <td>If a fire wanted fanning, it could readily be ...</td>\n",
       "    </tr>\n",
       "    <tr>\n",
       "      <th>2</th>\n",
       "      <td>id00134</td>\n",
       "      <td>And when they had broken down the frail door t...</td>\n",
       "    </tr>\n",
       "    <tr>\n",
       "      <th>3</th>\n",
       "      <td>id27757</td>\n",
       "      <td>While I was thinking how I should possibly man...</td>\n",
       "    </tr>\n",
       "    <tr>\n",
       "      <th>4</th>\n",
       "      <td>id04081</td>\n",
       "      <td>I am not sure to what limit his knowledge may ...</td>\n",
       "    </tr>\n",
       "  </tbody>\n",
       "</table>\n",
       "</div>"
      ],
      "text/plain": [
       "        id                                               text\n",
       "0  id02310  Still, as I urged our leaving Ireland with suc...\n",
       "1  id24541  If a fire wanted fanning, it could readily be ...\n",
       "2  id00134  And when they had broken down the frail door t...\n",
       "3  id27757  While I was thinking how I should possibly man...\n",
       "4  id04081  I am not sure to what limit his knowledge may ..."
      ]
     },
     "execution_count": 190,
     "metadata": {},
     "output_type": "execute_result"
    }
   ],
   "source": [
    "test.head()"
   ]
  },
  {
   "cell_type": "code",
   "execution_count": 191,
   "metadata": {},
   "outputs": [
    {
     "data": {
      "text/plain": [
       "<8392x25068 sparse matrix of type '<class 'numpy.float64'>'\n",
       "\twith 179102 stored elements in Compressed Sparse Row format>"
      ]
     },
     "execution_count": 191,
     "metadata": {},
     "output_type": "execute_result"
    }
   ],
   "source": [
    "test_cv = tfidf.transform(test['text'])\n",
    "test_cv"
   ]
  },
  {
   "cell_type": "code",
   "execution_count": 192,
   "metadata": {},
   "outputs": [
    {
     "data": {
      "text/plain": [
       "array([2, 0, 1, ..., 0, 2, 1], dtype=int64)"
      ]
     },
     "execution_count": 192,
     "metadata": {},
     "output_type": "execute_result"
    }
   ],
   "source": [
    "y_pred_nb_tfidf = NB_tfidf.predict(test_cv)\n",
    "y_pred_nb_tfidf"
   ]
  },
  {
   "cell_type": "code",
   "execution_count": 193,
   "metadata": {},
   "outputs": [
    {
     "data": {
      "text/plain": [
       "array([[ 0.28741668,  0.08762216,  0.62496115],\n",
       "       [ 0.78009262,  0.12890118,  0.09100619],\n",
       "       [ 0.38907427,  0.51992809,  0.09099764],\n",
       "       ..., \n",
       "       [ 0.78105253,  0.08363748,  0.13530999],\n",
       "       [ 0.31740973,  0.06731709,  0.61527317],\n",
       "       [ 0.37031601,  0.54583809,  0.0838459 ]])"
      ]
     },
     "execution_count": 193,
     "metadata": {},
     "output_type": "execute_result"
    }
   ],
   "source": [
    "y_pred_prob_nb_tfidf = NB_tfidf.predict_proba(test_cv)\n",
    "y_pred_prob_nb_tfidf"
   ]
  },
  {
   "cell_type": "code",
   "execution_count": 194,
   "metadata": {},
   "outputs": [
    {
     "data": {
      "text/html": [
       "<div>\n",
       "<style>\n",
       "    .dataframe thead tr:only-child th {\n",
       "        text-align: right;\n",
       "    }\n",
       "\n",
       "    .dataframe thead th {\n",
       "        text-align: left;\n",
       "    }\n",
       "\n",
       "    .dataframe tbody tr th {\n",
       "        vertical-align: top;\n",
       "    }\n",
       "</style>\n",
       "<table border=\"1\" class=\"dataframe\">\n",
       "  <thead>\n",
       "    <tr style=\"text-align: right;\">\n",
       "      <th></th>\n",
       "      <th>id</th>\n",
       "      <th>text</th>\n",
       "      <th>Predicted</th>\n",
       "      <th>EAP_Prob</th>\n",
       "      <th>HPL_Prob</th>\n",
       "      <th>MWS_Prob</th>\n",
       "    </tr>\n",
       "  </thead>\n",
       "  <tbody>\n",
       "    <tr>\n",
       "      <th>0</th>\n",
       "      <td>id02310</td>\n",
       "      <td>Still, as I urged our leaving Ireland with suc...</td>\n",
       "      <td>2</td>\n",
       "      <td>0.287417</td>\n",
       "      <td>0.087622</td>\n",
       "      <td>0.624961</td>\n",
       "    </tr>\n",
       "    <tr>\n",
       "      <th>1</th>\n",
       "      <td>id24541</td>\n",
       "      <td>If a fire wanted fanning, it could readily be ...</td>\n",
       "      <td>0</td>\n",
       "      <td>0.780093</td>\n",
       "      <td>0.128901</td>\n",
       "      <td>0.091006</td>\n",
       "    </tr>\n",
       "    <tr>\n",
       "      <th>2</th>\n",
       "      <td>id00134</td>\n",
       "      <td>And when they had broken down the frail door t...</td>\n",
       "      <td>1</td>\n",
       "      <td>0.389074</td>\n",
       "      <td>0.519928</td>\n",
       "      <td>0.090998</td>\n",
       "    </tr>\n",
       "    <tr>\n",
       "      <th>3</th>\n",
       "      <td>id27757</td>\n",
       "      <td>While I was thinking how I should possibly man...</td>\n",
       "      <td>0</td>\n",
       "      <td>0.547224</td>\n",
       "      <td>0.382172</td>\n",
       "      <td>0.070604</td>\n",
       "    </tr>\n",
       "    <tr>\n",
       "      <th>4</th>\n",
       "      <td>id04081</td>\n",
       "      <td>I am not sure to what limit his knowledge may ...</td>\n",
       "      <td>0</td>\n",
       "      <td>0.723383</td>\n",
       "      <td>0.111233</td>\n",
       "      <td>0.165384</td>\n",
       "    </tr>\n",
       "  </tbody>\n",
       "</table>\n",
       "</div>"
      ],
      "text/plain": [
       "        id                                               text  Predicted  \\\n",
       "0  id02310  Still, as I urged our leaving Ireland with suc...          2   \n",
       "1  id24541  If a fire wanted fanning, it could readily be ...          0   \n",
       "2  id00134  And when they had broken down the frail door t...          1   \n",
       "3  id27757  While I was thinking how I should possibly man...          0   \n",
       "4  id04081  I am not sure to what limit his knowledge may ...          0   \n",
       "\n",
       "   EAP_Prob  HPL_Prob  MWS_Prob  \n",
       "0  0.287417  0.087622  0.624961  \n",
       "1  0.780093  0.128901  0.091006  \n",
       "2  0.389074  0.519928  0.090998  \n",
       "3  0.547224  0.382172  0.070604  \n",
       "4  0.723383  0.111233  0.165384  "
      ]
     },
     "execution_count": 194,
     "metadata": {},
     "output_type": "execute_result"
    }
   ],
   "source": [
    "result = pd.DataFrame(y_pred_prob_nb_tfidf, columns=['EAP_Prob','HPL_Prob','MWS_Prob'])\n",
    "result.insert(0, 'id', test['id'])\n",
    "result.insert(1, 'text', test['text'])\n",
    "result.insert(2, 'Predicted',y_pred)\n",
    "result.head()"
   ]
  },
  {
   "cell_type": "code",
   "execution_count": 195,
   "metadata": {},
   "outputs": [
    {
     "data": {
      "text/html": [
       "<div>\n",
       "<style>\n",
       "    .dataframe thead tr:only-child th {\n",
       "        text-align: right;\n",
       "    }\n",
       "\n",
       "    .dataframe thead th {\n",
       "        text-align: left;\n",
       "    }\n",
       "\n",
       "    .dataframe tbody tr th {\n",
       "        vertical-align: top;\n",
       "    }\n",
       "</style>\n",
       "<table border=\"1\" class=\"dataframe\">\n",
       "  <thead>\n",
       "    <tr style=\"text-align: right;\">\n",
       "      <th></th>\n",
       "      <th>id</th>\n",
       "      <th>text</th>\n",
       "      <th>Predicted</th>\n",
       "      <th>EAP_Prob</th>\n",
       "      <th>HPL_Prob</th>\n",
       "      <th>MWS_Prob</th>\n",
       "      <th>Predicted_Author</th>\n",
       "    </tr>\n",
       "  </thead>\n",
       "  <tbody>\n",
       "    <tr>\n",
       "      <th>0</th>\n",
       "      <td>id02310</td>\n",
       "      <td>Still, as I urged our leaving Ireland with suc...</td>\n",
       "      <td>2</td>\n",
       "      <td>0.287417</td>\n",
       "      <td>0.087622</td>\n",
       "      <td>0.624961</td>\n",
       "      <td>MWS</td>\n",
       "    </tr>\n",
       "    <tr>\n",
       "      <th>1</th>\n",
       "      <td>id24541</td>\n",
       "      <td>If a fire wanted fanning, it could readily be ...</td>\n",
       "      <td>0</td>\n",
       "      <td>0.780093</td>\n",
       "      <td>0.128901</td>\n",
       "      <td>0.091006</td>\n",
       "      <td>EAP</td>\n",
       "    </tr>\n",
       "    <tr>\n",
       "      <th>2</th>\n",
       "      <td>id00134</td>\n",
       "      <td>And when they had broken down the frail door t...</td>\n",
       "      <td>1</td>\n",
       "      <td>0.389074</td>\n",
       "      <td>0.519928</td>\n",
       "      <td>0.090998</td>\n",
       "      <td>HPL</td>\n",
       "    </tr>\n",
       "    <tr>\n",
       "      <th>3</th>\n",
       "      <td>id27757</td>\n",
       "      <td>While I was thinking how I should possibly man...</td>\n",
       "      <td>0</td>\n",
       "      <td>0.547224</td>\n",
       "      <td>0.382172</td>\n",
       "      <td>0.070604</td>\n",
       "      <td>EAP</td>\n",
       "    </tr>\n",
       "    <tr>\n",
       "      <th>4</th>\n",
       "      <td>id04081</td>\n",
       "      <td>I am not sure to what limit his knowledge may ...</td>\n",
       "      <td>0</td>\n",
       "      <td>0.723383</td>\n",
       "      <td>0.111233</td>\n",
       "      <td>0.165384</td>\n",
       "      <td>EAP</td>\n",
       "    </tr>\n",
       "  </tbody>\n",
       "</table>\n",
       "</div>"
      ],
      "text/plain": [
       "        id                                               text  Predicted  \\\n",
       "0  id02310  Still, as I urged our leaving Ireland with suc...          2   \n",
       "1  id24541  If a fire wanted fanning, it could readily be ...          0   \n",
       "2  id00134  And when they had broken down the frail door t...          1   \n",
       "3  id27757  While I was thinking how I should possibly man...          0   \n",
       "4  id04081  I am not sure to what limit his knowledge may ...          0   \n",
       "\n",
       "   EAP_Prob  HPL_Prob  MWS_Prob Predicted_Author  \n",
       "0  0.287417  0.087622  0.624961              MWS  \n",
       "1  0.780093  0.128901  0.091006              EAP  \n",
       "2  0.389074  0.519928  0.090998              HPL  \n",
       "3  0.547224  0.382172  0.070604              EAP  \n",
       "4  0.723383  0.111233  0.165384              EAP  "
      ]
     },
     "execution_count": 195,
     "metadata": {},
     "output_type": "execute_result"
    }
   ],
   "source": [
    "result['Predicted_Author'] = result.Predicted.map({0:'EAP', 1:'HPL', 2:'MWS'})\n",
    "result.head()"
   ]
  },
  {
   "cell_type": "code",
   "execution_count": 196,
   "metadata": {
    "collapsed": true
   },
   "outputs": [],
   "source": [
    "result.to_excel(writer,sheet_name='NavieBayes_TF-IDF',index=False,  columns=['id','text', 'Predicted_Author','EAP_Prob','HPL_Prob',\n",
    "'MWS_Prob'])\n",
    "writer.save()"
   ]
  },
  {
   "cell_type": "markdown",
   "metadata": {},
   "source": [
    "Futher :\n",
    "\n",
    "4. svm\n",
    "5. xgboost\n",
    "6. perform  K-Fold Cross Validation"
   ]
  },
  {
   "cell_type": "code",
   "execution_count": null,
   "metadata": {
    "collapsed": true
   },
   "outputs": [],
   "source": []
  },
  {
   "cell_type": "code",
   "execution_count": null,
   "metadata": {
    "collapsed": true
   },
   "outputs": [],
   "source": []
  }
 ],
 "metadata": {
  "kernelspec": {
   "display_name": "Python 3",
   "language": "python",
   "name": "python3"
  },
  "language_info": {
   "codemirror_mode": {
    "name": "ipython",
    "version": 3
   },
   "file_extension": ".py",
   "mimetype": "text/x-python",
   "name": "python",
   "nbconvert_exporter": "python",
   "pygments_lexer": "ipython3",
   "version": "3.6.1"
  }
 },
 "nbformat": 4,
 "nbformat_minor": 2
}
